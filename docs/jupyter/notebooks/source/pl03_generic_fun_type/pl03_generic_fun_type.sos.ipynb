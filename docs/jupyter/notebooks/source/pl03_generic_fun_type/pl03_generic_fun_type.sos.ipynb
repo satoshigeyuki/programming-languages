{
  "cells": [
    {
      "cell_type": "markdown",
      "metadata": {
        "kernel": "SoS",
        "nbgrader": {
          "grade": false,
          "grade_id": "c-001",
          "locked": true,
          "schema_version": 3,
          "solution": false,
          "task": false
        }
      },
      "source": [
        "\n",
        "#  Programming Languages (3) --- Generic functions and types",
        ""
      ]
    },
    {
      "cell_type": "markdown",
      "metadata": {
        "kernel": "SoS",
        "nbgrader": {
          "grade": false,
          "grade_id": "c-002",
          "locked": false,
          "schema_version": 3,
          "solution": false,
          "task": false
        }
      },
      "source": [
        "\n",
        "Enter your name and student ID.\n",
        "\n",
        " * Name:\n",
        " * Student ID:\n",
        ""
      ]
    },
    {
      "cell_type": "markdown",
      "metadata": {
        "kernel": "SoS",
        "nbgrader": {
          "grade": false,
          "grade_id": "c-003",
          "locked": true,
          "schema_version": 3,
          "solution": false,
          "task": false
        }
      },
      "source": [
        "\n",
        "# 1. Choose your language",
        "\n",
        "From this week and on, choose the language you are assigned to (see [this](https://docs.google.com/spreadsheets/d/1wl31o-vQ3K20rANd91khIq6svla4cKhiuTHds6r1m-w/edit#gid=0))\n",
        "\n",
        "Declare your choice in the following cell (leave the one you choose).  In this notebook, I will work on"
      ]
    },
    {
      "cell_type": "markdown",
      "metadata": {
        "kernel": "SoS",
        "nbgrader": {
          "grade": true,
          "grade_id": "p-001",
          "locked": false,
          "schema_version": 3,
          "solution": true,
          "task": false,
          "points": 1
        }
      },
      "source": [
        "BEGIN SOLUTION\n",
        "END SOLUTION\n",
        "Go\n",
        "Julia\n",
        "OCaml\n",
        "Rust"
      ]
    },
    {
      "cell_type": "markdown",
      "metadata": {
        "kernel": "SoS",
        "nbgrader": {
          "grade": false,
          "grade_id": "c-004",
          "locked": true,
          "schema_version": 3,
          "solution": false,
          "task": false
        }
      },
      "source": [
        "# 2. Roadmap",
        "\n",
        "* In this notebook, you are going to learn _generic_ functions and types\n",
        "\n",
        "* A _generic function_ (_type_) refers a function (_type_) that can be instantiated with many types\n",
        "* A generic function is very useful because it can apply to many different types with a single definition\n",
        "\n",
        "* Below, you are going to write a function that optimizes (minimizes) a function (_objective function_) given as a parameter, over a domain, which is also given as a parameter. i.e.,  ${\\tt minimize}(f, D)$\n",
        "* Wouldn't it be nice if we can implement it for functions that take, say, a floating point number, an integer, a pair of floating point numbers, etc., with a single definition?\n",
        "* We can/will do this as follows\n",
        "1. write a domain class/object that generates elements from the domain, one at a time\n",
        "1. write the function that repeatedly draws an element $x$ from the domain, evaluates the objective function at $x$, and records the minimum value encountered\n",
        " "
      ]
    },
    {
      "cell_type": "markdown",
      "metadata": {
        "kernel": "SoS",
        "nbgrader": {
          "grade": false,
          "grade_id": "c-005",
          "locked": true,
          "schema_version": 3,
          "solution": false,
          "task": false
        }
      },
      "source": [
        "# 3. A warm up",
        "\n",
        "## <font color=\"green\"> Problem 1 :  A function that takes a function </font>",
        "\n",
        "* Write a function $f$ that takes a float-taking function $g$ and apply $g$ to 1.0 in your language\n",
        "* That is, $f(g) = g(1.0)$\n",
        "* Master the syntax representing a function type, though in some languages you don't have to write it up yourself\n",
        ""
      ]
    },
    {
      "cell_type": "code",
      "metadata": {
        "kernel": "Python 3 (ipykernel)",
        "nbgrader": {
          "grade": true,
          "grade_id": "p-002",
          "locked": false,
          "schema_version": 3,
          "solution": true,
          "task": false,
          "points": 1
        }
      },
      "source": [
        "BEGIN SOLUTION\n",
        "END SOLUTION\n",
        ""
      ],
      "execution_count": null,
      "outputs": []
    },
    {
      "cell_type": "markdown",
      "metadata": {
        "kernel": "SoS",
        "nbgrader": {
          "grade": false,
          "grade_id": "c-006",
          "locked": true,
          "schema_version": 3,
          "solution": false,
          "task": false
        }
      },
      "source": [
        "# 4. A domain class for a floating point number",
        "\n",
        "* Our ultimate goal is to write a _generic_ minimizer, but to make matters easier, let's first define a data structure that generates floating point numbers\n",
        "\n",
        "## <font color=\"green\"> Problem 2 :  A domain class for a floating point number</font>",
        "\n",
        "Define a data structure `float_random_generator` (change the name according to case conventions/requirements of your language), which\n",
        " * takes $a$, $b$ and $n$ upon creation\n",
        " * has `next()` method that returns a random floating point number in the interval $[a, b]$ up to $n$ times, after which it returns a value that indicates no more values\n",
        "\n",
        "Note: `next()` may return either a floating point number of a value that indicates \"no value\". the most natural way to do it depends on your language.  Here are some keywords you want to search for\n",
        "\n",
        " |      |                      |\n",
        " |------|----------------------|\n",
        " |Go    |multiple return values|\n",
        " |Julia |nothing               |\n",
        " |OCaml |option                |\n",
        " |Rust  |Option                |\n",
        ""
      ]
    },
    {
      "cell_type": "code",
      "metadata": {
        "kernel": "Python 3 (ipykernel)",
        "nbgrader": {
          "grade": true,
          "grade_id": "p-003",
          "locked": false,
          "schema_version": 3,
          "solution": true,
          "task": false,
          "points": 1
        }
      },
      "source": [
        "BEGIN SOLUTION\n",
        "END SOLUTION\n",
        ""
      ],
      "execution_count": null,
      "outputs": []
    },
    {
      "cell_type": "markdown",
      "metadata": {
        "kernel": "SoS",
        "nbgrader": {
          "grade": false,
          "grade_id": "c-007",
          "locked": true,
          "schema_version": 3,
          "solution": false,
          "task": false
        }
      },
      "source": [
        "# 5. A minimizer for float -> float functions",
        "\n",
        "## <font color=\"green\"> Problem 3 :  A minimizer for float -> float functions</font>",
        "\n",
        "Write a function `minimize`, which\n",
        " * takes $f$ (a function that takes a float and returns a float) and a `float_random_generator`\n",
        " * finds $x$ that minimizes $f(x)$ among those generated by the `float_random_generator`\n",
        "\n",
        "In a pseudo code:\n",
        "```\n",
        "repeat {\n",
        "  x = gen.next()\n",
        "  if (no more values) break\n",
        "  y = f(x)\n",
        "}\n",
        "and return (x, f(x)) that attained the minimum value\n",
        "```"
      ]
    },
    {
      "cell_type": "code",
      "metadata": {
        "kernel": "Python 3 (ipykernel)",
        "nbgrader": {
          "grade": true,
          "grade_id": "p-004",
          "locked": false,
          "schema_version": 3,
          "solution": true,
          "task": false,
          "points": 1
        }
      },
      "source": [
        "BEGIN SOLUTION\n",
        "END SOLUTION\n",
        ""
      ],
      "execution_count": null,
      "outputs": []
    },
    {
      "cell_type": "markdown",
      "metadata": {
        "kernel": "SoS",
        "nbgrader": {
          "grade": false,
          "grade_id": "c-008",
          "locked": true,
          "schema_version": 3,
          "solution": false,
          "task": false
        }
      },
      "source": [
        "## <font color=\"green\"> Problem 4 :  Apply float -> float minimizer</font>",
        "\n",
        "Apply `minimize` to minimize function $f(x) = x(x-1)(x-2)$ in the interval $[0, 2]$\n",
        ""
      ]
    },
    {
      "cell_type": "code",
      "metadata": {
        "kernel": "Python 3 (ipykernel)",
        "nbgrader": {
          "grade": true,
          "grade_id": "p-005",
          "locked": false,
          "schema_version": 3,
          "solution": true,
          "task": false,
          "points": 1
        }
      },
      "source": [
        "BEGIN SOLUTION\n",
        "END SOLUTION\n",
        ""
      ],
      "execution_count": null,
      "outputs": []
    },
    {
      "cell_type": "markdown",
      "metadata": {
        "kernel": "SoS",
        "nbgrader": {
          "grade": false,
          "grade_id": "c-009",
          "locked": true,
          "schema_version": 3,
          "solution": false,
          "task": false
        }
      },
      "source": [
        "# 6. A first step to make it generic",
        "\n",
        "* You will notice that the underlying principles or the algorithm dictated by the `minimize` function defined above generically works for domains other than floating point numbers; all it is doing is to draw an element from a domain and apply the function to it, with nothing specific to a floating point number\n",
        "* It is therefore quite natural to desire it be generic in our programs too\n",
        "* Remarkably, it is automatically happening in some languages (which one, do you think?)\n",
        "* In other languages, the objective function $f$ explicitly takes a floating point number and your domain parameter is `float_random_generator`, both of which prevent us from applying the same function to any other domain\n",
        "\n",
        "* Let's first fix the latter, that is, its domain parameter hard-coded to `float_random_generator`\n",
        "\n",
        "## <font color=\"green\"> Problem 5 :  A somewhat generic float -> float minimizer</font>",
        "\n",
        "* If necessary in your language, make an interface or a similar mechanism, called `float_generator`, that represents any type that has `next()` method that returns a floating point number\n",
        "* Clearly, `float_random_generator` clearly implements `float_generator`; make it explicit if required in your language\n",
        "* Fix the `minimize` function so as to takes any type that implements the above interface"
      ]
    },
    {
      "cell_type": "code",
      "metadata": {
        "kernel": "Python 3 (ipykernel)",
        "nbgrader": {
          "grade": true,
          "grade_id": "p-006",
          "locked": false,
          "schema_version": 3,
          "solution": true,
          "task": false,
          "points": 1
        }
      },
      "source": [
        "BEGIN SOLUTION\n",
        "END SOLUTION\n",
        ""
      ],
      "execution_count": null,
      "outputs": []
    },
    {
      "cell_type": "markdown",
      "metadata": {
        "kernel": "SoS",
        "nbgrader": {
          "grade": false,
          "grade_id": "c-010",
          "locked": true,
          "schema_version": 3,
          "solution": false,
          "task": false
        }
      },
      "source": [
        "## <font color=\"green\"> Problem 6 :  Apply a somewhat generic float -> float minimizer</font>",
        "\n",
        "Check the new `minimize` works for the same function $f(x) = x(x-1)(x-2)$ and the `float_random_generator`"
      ]
    },
    {
      "cell_type": "code",
      "metadata": {
        "kernel": "Python 3 (ipykernel)",
        "nbgrader": {
          "grade": true,
          "grade_id": "p-007",
          "locked": false,
          "schema_version": 3,
          "solution": true,
          "task": false,
          "points": 1
        }
      },
      "source": [
        "BEGIN SOLUTION\n",
        "END SOLUTION\n",
        ""
      ],
      "execution_count": null,
      "outputs": []
    },
    {
      "cell_type": "markdown",
      "metadata": {
        "kernel": "SoS",
        "nbgrader": {
          "grade": false,
          "grade_id": "c-011",
          "locked": true,
          "schema_version": 3,
          "solution": false,
          "task": false
        }
      },
      "source": [
        "# 7. Warning to Go workers",
        "\n",
        "* The problems below require parametric types\n",
        "* Go supports parametric types only from 1.18, and Go version in the Jupyter environment is not new enough to support it\n",
        "* <font color=\"red\">_To complete problems below, you need to use the command line version of go;_</font> login with SSH or use the Jupyter terminal.  Try \n",
        "```\n",
        "go version\n",
        "```\n",
        "to see the version"
      ]
    },
    {
      "cell_type": "markdown",
      "metadata": {
        "kernel": "SoS",
        "nbgrader": {
          "grade": false,
          "grade_id": "c-012",
          "locked": true,
          "schema_version": 3,
          "solution": false,
          "task": false
        }
      },
      "source": [
        "# 8. A warm up for a generic type",
        "\n",
        "## <font color=\"green\"> Problem 7 :  Define a trivial generic type and a function</font>",
        "\n",
        "* Master the syntax of parameterized data type, creating an instance such types and parameterized functions\n",
        "* As a practice, define a parameterized data type, called `triv`, that takes any value $x$ of any type $T$, and a function that takes a value of `triv` type and returns its value. That is, something along the following in your language\n",
        "```\n",
        "s = triv(3)\n",
        "x = triv_val(s) # should return 3\n",
        "t = triv(\"hello\")\n",
        "y = triv_val(t) # should return \"hello\"\n",
        "```\n",
        "\n",
        "* The syntax differs between languages\n",
        "\n",
        " |     |                |                                         |\n",
        " |-----|----------------|-----------------------------------------|\n",
        " |Go   |generator[$T$]  |[Tutorial: Getting started with generics](https://go.dev/doc/tutorial/generics)|\n",
        " |Julia|generator{$T$}  |[Parametric Types](https://docs.julialang.org/en/v1/manual/types/#Parametric-Types)|\n",
        " |Julia|generator{$T$}  |[Parametric Methods](https://docs.julialang.org/en/v1/manual/methods/#Parametric-Methods)|\n",
        " |Rust |generator<$T$>  |[Generic Data Types](https://doc.rust-lang.org/book/ch10-01-syntax.html#generic-data-types)|\n",
        " |OCaml|$'a$ generator  |[Records and variants](https://ocaml.org/manual/coreexamples.html#s:tut-recvariants)|\n",
        "\n",
        ""
      ]
    },
    {
      "cell_type": "code",
      "metadata": {
        "kernel": "Python 3 (ipykernel)",
        "nbgrader": {
          "grade": true,
          "grade_id": "p-008",
          "locked": false,
          "schema_version": 3,
          "solution": true,
          "task": false,
          "points": 1
        }
      },
      "source": [
        "BEGIN SOLUTION\n",
        "END SOLUTION\n",
        ""
      ],
      "execution_count": null,
      "outputs": []
    },
    {
      "cell_type": "markdown",
      "metadata": {
        "kernel": "SoS",
        "nbgrader": {
          "grade": false,
          "grade_id": "c-013",
          "locked": true,
          "schema_version": 3,
          "solution": false,
          "task": false
        }
      },
      "source": [
        "# 9. Generic (parameterized) functions and types",
        "\n",
        "* Now we are ready to make `minimize` truly generic, in the sense that it can now minimize a function whose domain is not a floating point number\n",
        "* To this end, you need to _parameterize_ `float_generator`\n",
        "* Let's call it `generator`; it can take a type parameter $T$ and its `next()` method now generates a value of $T$\n",
        "\n",
        "## <font color=\"green\"> Problem 8 :  A generic T -> float minimizer</font>",
        "\n",
        "* Parameterize the generator type, as well as the type of incoming parameters of `minimize`, so that it can minimize functions taking values other than a floating point number (e.g., an integer or a pair of floats)\n",
        ""
      ]
    },
    {
      "cell_type": "code",
      "metadata": {
        "kernel": "Python 3 (ipykernel)",
        "nbgrader": {
          "grade": true,
          "grade_id": "p-009",
          "locked": false,
          "schema_version": 3,
          "solution": true,
          "task": false,
          "points": 1
        }
      },
      "source": [
        "BEGIN SOLUTION\n",
        "END SOLUTION\n",
        ""
      ],
      "execution_count": null,
      "outputs": []
    },
    {
      "cell_type": "markdown",
      "metadata": {
        "kernel": "SoS",
        "nbgrader": {
          "grade": false,
          "grade_id": "c-014",
          "locked": true,
          "schema_version": 3,
          "solution": false,
          "task": false
        }
      },
      "source": [
        "\n",
        "## <font color=\"green\"> Problem 9 :  Apply a generic T -> float minimizer</font>",
        "\n",
        "* Write a generator `ellipse_generator`, which takes an ellipse's center $(x_0, y_0)$ and horizontal and vertical radius $a$ and $b$ upon creation and whose `next()` method returns a pair of floats inside the ellipse. That is, `next()` should return a random point $(x, y)$ satisfying\n",
        "$$\\frac{(x-x_0)^2}{a^2} + \\frac{(y-y_0)^2}{b^2} \\leq 1$$\n",
        "* Minimize function $f(x, y) = x^2 + y^2$ in the ellipse whose center $= (3, 3)$, $a = 2$ and $b = 1$\n",
        ""
      ]
    },
    {
      "cell_type": "code",
      "metadata": {
        "kernel": "Python 3 (ipykernel)",
        "nbgrader": {
          "grade": true,
          "grade_id": "p-010",
          "locked": false,
          "schema_version": 3,
          "solution": true,
          "task": false,
          "points": 1
        }
      },
      "source": [
        "BEGIN SOLUTION\n",
        "END SOLUTION\n",
        ""
      ],
      "execution_count": null,
      "outputs": []
    }
  ],
  "metadata": {
    "celltoolbar": "Create Assignment",
    "kernelspec": {
      "display_name": "SoS",
      "language": "sos",
      "name": "sos"
    },
    "language_info": {
      "codemirror_mode": "sos",
      "file_extension": ".sos",
      "mimetype": "text/x-sos",
      "name": "sos",
      "nbconvert_exporter": "sos_notebook.converter.SoS_Exporter",
      "pygments_lexer": "sos"
    },
    "sos": {
      "kernels": [
        [
          "Bash",
          "bash",
          "bash",
          "",
          "shell"
        ],
        [
          "C",
          "c_kernel",
          "c",
          "",
          ""
        ],
        [
          "Go",
          "gophernotes",
          "go",
          "",
          ""
        ],
        [
          "Julia 1.10.2",
          "julia-1.10",
          "julia",
          "",
          ""
        ],
        [
          "OCaml default",
          "ocaml-jupyter",
          "OCaml",
          "",
          "text/x-ocaml"
        ],
        [
          "Python 3 (ipykernel)",
          "python3",
          "python3",
          "",
          {
            "name": "ipython",
            "version": 3
          }
        ],
        [
          "Rust",
          "rust",
          "rust",
          "",
          ""
        ]
      ],
      "panel": {
        "displayed": true,
        "height": 0
      },
      "version": "0.23.3"
    }
  },
  "nbformat": 4,
  "nbformat_minor": 4
}