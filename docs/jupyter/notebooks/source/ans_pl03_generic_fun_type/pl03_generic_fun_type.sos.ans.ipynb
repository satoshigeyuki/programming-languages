{
  "cells": [
    {
      "cell_type": "markdown",
      "metadata": {
        "kernel": "SoS",
        "nbgrader": {
          "grade": false,
          "grade_id": "c-001",
          "locked": true,
          "schema_version": 3,
          "solution": false,
          "task": false
        }
      },
      "source": [
        "# 3. A warm up",
        "\n",
        "## <font color=\"green\"> Problem 1 :  A function that takes a function </font>",
        "\n",
        "* Write a function $f$ that takes a float-taking function $g$ and apply $g$ to 1.0 in your language\n",
        "* That is, $f(g) = g(1.0)$\n",
        "* Master the syntax representing a function type, though in some languages you don't have to write it up yourself\n",
        ""
      ]
    },
    {
      "cell_type": "code",
      "metadata": {
        "kernel": "OCaml default",
        "nbgrader": {
          "grade": false,
          "grade_id": "c-002",
          "locked": false,
          "schema_version": 3,
          "solution": false,
          "task": false
        }
      },
      "source": [
        "let f g = g 1.0;;"
      ],
      "execution_count": null,
      "outputs": []
    },
    {
      "cell_type": "code",
      "metadata": {
        "kernel": "Julia 1.10.2",
        "nbgrader": {
          "grade": false,
          "grade_id": "c-003",
          "locked": false,
          "schema_version": 3,
          "solution": false,
          "task": false
        }
      },
      "source": [
        "f(g) = g(1.0)"
      ],
      "execution_count": null,
      "outputs": []
    },
    {
      "cell_type": "code",
      "metadata": {
        "kernel": "Go",
        "nbgrader": {
          "grade": false,
          "grade_id": "c-004",
          "locked": false,
          "schema_version": 3,
          "solution": false,
          "task": false
        }
      },
      "source": [
        "func f(g func (float64) float64) float64 { return g(1.0); }"
      ],
      "execution_count": null,
      "outputs": []
    },
    {
      "cell_type": "code",
      "metadata": {
        "kernel": "Rust",
        "nbgrader": {
          "grade": false,
          "grade_id": "c-005",
          "locked": false,
          "schema_version": 3,
          "solution": false,
          "task": false
        }
      },
      "source": [
        "fn f(g : fn (f64) -> f64) -> f64 { g(1.0) }"
      ],
      "execution_count": null,
      "outputs": []
    },
    {
      "cell_type": "markdown",
      "metadata": {
        "kernel": "SoS",
        "nbgrader": {
          "grade": false,
          "grade_id": "c-006",
          "locked": true,
          "schema_version": 3,
          "solution": false,
          "task": false
        }
      },
      "source": [
        "# 4. A domain class for a floating point number",
        "\n",
        "* Our ultimate goal is to write a _generic_ minimizer, but to make matters easier, let's first define a data structure that generates floating point numbers\n",
        "\n",
        "## <font color=\"green\"> Problem 2 :  A domain class for a floating point number</font>",
        "\n",
        "Define a data structure `float_random_generator` (change the name according to case conventions/requirements of your language), which\n",
        " * takes $a$, $b$ and $n$ upon creation\n",
        " * has `next()` method that returns a random floating point number in the interval $[a, b]$ up to $n$ times, after which it returns a value that indicates no more values\n",
        "\n",
        "Note: `next()` may return either a floating point number of a value that indicates \"no value\". the most natural way to do it depends on your language.  Here are some keywords you want to search for\n",
        "\n",
        " |      |                      |\n",
        " |------|----------------------|\n",
        " |Go    |multiple return values|\n",
        " |Julia |nothing               |\n",
        " |OCaml |option                |\n",
        " |Rust  |Option                |\n",
        ""
      ]
    },
    {
      "cell_type": "code",
      "metadata": {
        "kernel": "OCaml default",
        "nbgrader": {
          "grade": false,
          "grade_id": "c-007",
          "locked": false,
          "schema_version": 3,
          "solution": false,
          "task": false
        }
      },
      "source": [
        "class random_float_generator a b n = object\n",
        "  val mutable i = 0\n",
        "  method next =\n",
        "    if i < n then\n",
        "      let x = a +. (b -. a) *. (Random.float 1.0) in\n",
        "      let _ = i <- i + 1 in\n",
        "      Some(x)\n",
        "    else\n",
        "      None\n",
        "end\n",
        ";;"
      ],
      "execution_count": null,
      "outputs": []
    },
    {
      "cell_type": "code",
      "metadata": {
        "kernel": "Julia 1.10.2",
        "nbgrader": {
          "grade": false,
          "grade_id": "c-008",
          "locked": false,
          "schema_version": 3,
          "solution": false,
          "task": false
        }
      },
      "source": [
        "mutable struct random_float_generator\n",
        "    a :: Float64\n",
        "    b :: Float64\n",
        "    n :: Int64\n",
        "    i :: Int64\n",
        "end\n",
        "\n",
        "function random_float_generator(a, b, n)\n",
        "    random_float_generator(a, b, n, 0)\n",
        "end\n",
        "\n",
        "function next(rfg :: random_float_generator)\n",
        "    if rfg.i < rfg.n \n",
        "        x = rfg.a + (rfg.b - rfg.a) * rand(Float64)\n",
        "        rfg.i += 1\n",
        "        x\n",
        "    else\n",
        "        nothing\n",
        "    end\n",
        "end"
      ],
      "execution_count": null,
      "outputs": []
    },
    {
      "cell_type": "code",
      "metadata": {
        "kernel": "Go",
        "nbgrader": {
          "grade": false,
          "grade_id": "c-009",
          "locked": false,
          "schema_version": 3,
          "solution": false,
          "task": false
        }
      },
      "source": [
        "import \"math/rand\"\n",
        "type RandomFloatGenerator struct {\n",
        "        a, b float64\n",
        "        n int\n",
        "        i int\n",
        "        rng * rand.Rand\n",
        "}\n",
        "\n",
        "func mk_random_float_generator(a float64, b float64, n int) * RandomFloatGenerator {\n",
        "        rng := rand.New(rand.NewSource(123456));\n",
        "        return &RandomFloatGenerator{a, b, n, 0, rng};\n",
        "}\n",
        "\n",
        "func (rfg * RandomFloatGenerator) next() (float64, bool) {\n",
        "        if rfg.i < rfg.n {\n",
        "                x := rfg.a + (rfg.b - rfg.a) * rfg.rng.Float64();\n",
        "                rfg.i += 1;\n",
        "                return x, true;\n",
        "        } else {\n",
        "                return 0.0, false;\n",
        "        }\n",
        "}"
      ],
      "execution_count": null,
      "outputs": []
    },
    {
      "cell_type": "code",
      "metadata": {
        "kernel": "Rust",
        "nbgrader": {
          "grade": false,
          "grade_id": "c-010",
          "locked": false,
          "schema_version": 3,
          "solution": false,
          "task": false
        }
      },
      "source": [
        "extern crate rand;\n",
        "use rand::Rng;\n",
        "\n",
        "struct RandomFloatGenerator {\n",
        "    a : f64,\n",
        "    b : f64,\n",
        "    n : i32,\n",
        "    i : i32,\n",
        "    rng : rand::rngs::ThreadRng\n",
        "}\n",
        "\n",
        "fn mk_random_float_generator(a : f64, b : f64, n : i32)\n",
        "                           -> RandomFloatGenerator {\n",
        "    let rng = rand::thread_rng();\n",
        "    let i = 0;\n",
        "    RandomFloatGenerator{a, b, n, i, rng}\n",
        "}\n",
        "\n",
        "impl RandomFloatGenerator {\n",
        "    fn next(&mut self) -> Option<f64> {\n",
        "        if self.i < self.n {\n",
        "            let x = self.a + (self.b - self.a) * self.rng.gen::<f64>();\n",
        "            self.i += 1;\n",
        "            return Some(x)\n",
        "        } else {\n",
        "            return None\n",
        "        }\n",
        "    }\n",
        "}"
      ],
      "execution_count": null,
      "outputs": []
    },
    {
      "cell_type": "markdown",
      "metadata": {
        "kernel": "SoS",
        "nbgrader": {
          "grade": false,
          "grade_id": "c-011",
          "locked": true,
          "schema_version": 3,
          "solution": false,
          "task": false
        }
      },
      "source": [
        "# 5. A minimizer for float -> float functions",
        "\n",
        "## <font color=\"green\"> Problem 3 :  A minimizer for float -> float functions</font>",
        "\n",
        "Write a function `minimize`, which\n",
        " * takes $f$ (a function that takes a float and returns a float) and a `float_random_generator`\n",
        " * finds $x$ that minimizes $f(x)$ among those generated by the `float_random_generator`\n",
        "\n",
        "In a pseudo code:\n",
        "```\n",
        "repeat {\n",
        "  x = gen.next()\n",
        "  if (no more values) break\n",
        "  y = f(x)\n",
        "}\n",
        "and return (x, f(x)) that attained the minimum value\n",
        "```"
      ]
    },
    {
      "cell_type": "code",
      "metadata": {
        "kernel": "OCaml default",
        "nbgrader": {
          "grade": false,
          "grade_id": "c-012",
          "locked": false,
          "schema_version": 3,
          "solution": false,
          "task": false
        }
      },
      "source": [
        "let take_min min_xy x y =\n",
        "  match min_xy with\n",
        "    None -> Some((x, y))\n",
        "  | Some((min_x, min_y)) ->\n",
        "     if y < min_y then\n",
        "       Some((x, y))\n",
        "     else\n",
        "       min_xy\n",
        ";;\n",
        "let minimize f rfg =\n",
        "  let rec loop min_xy =\n",
        "    match rfg#next with\n",
        "      None -> min_xy\n",
        "    | Some(x) ->\n",
        "       let y = f x in\n",
        "       let min_xy = take_min min_xy x y in\n",
        "       loop min_xy\n",
        "  in loop None\n",
        ";;"
      ],
      "execution_count": null,
      "outputs": []
    },
    {
      "cell_type": "code",
      "metadata": {
        "kernel": "Julia 1.10.2",
        "nbgrader": {
          "grade": false,
          "grade_id": "c-013",
          "locked": false,
          "schema_version": 3,
          "solution": false,
          "task": false
        }
      },
      "source": [
        "function minimize(f, rfg)\n",
        "    min_x = nothing\n",
        "    min_y = nothing\n",
        "    while true\n",
        "        x = next(rfg)\n",
        "        if x == nothing\n",
        "            return (min_x, min_y)\n",
        "        end\n",
        "        y = f(x)\n",
        "        if min_x == nothing || y < min_y\n",
        "            min_x, min_y = x, y\n",
        "        end\n",
        "    end\n",
        "end"
      ],
      "execution_count": null,
      "outputs": []
    },
    {
      "cell_type": "code",
      "metadata": {
        "kernel": "Go",
        "nbgrader": {
          "grade": false,
          "grade_id": "c-014",
          "locked": false,
          "schema_version": 3,
          "solution": false,
          "task": false
        }
      },
      "source": [
        "func minimize (f func (float64) float64, rfg * RandomFloatGenerator) (float64, float64, bool) {\n",
        "        var min_x float64\n",
        "        var min_y float64\n",
        "        i := 0\n",
        "        for {\n",
        "                x, some := rfg.next()\n",
        "                if ! some { break }\n",
        "                y := f(x)\n",
        "                if i == 0 || y < min_y {\n",
        "                        min_y = y\n",
        "                        min_x = x\n",
        "                }\n",
        "                i += 1\n",
        "        }\n",
        "        return min_x, min_y, i > 0\n",
        "}"
      ],
      "execution_count": null,
      "outputs": []
    },
    {
      "cell_type": "code",
      "metadata": {
        "kernel": "Rust",
        "nbgrader": {
          "grade": false,
          "grade_id": "c-015",
          "locked": false,
          "schema_version": 3,
          "solution": false,
          "task": false
        }
      },
      "source": [
        "fn take_min(min_xy : Option::<(f64, f64)>, x : f64, y : f64)\n",
        "            -> Option::<(f64, f64)> {\n",
        "    match min_xy {\n",
        "        None => Some((x, y)),\n",
        "        Some((_, min_y)) =>\n",
        "            if y < min_y {\n",
        "                Some((x, y))\n",
        "            } else {\n",
        "                min_xy\n",
        "            }\n",
        "    }\n",
        "}\n",
        "\n",
        "fn minimize(f : fn (f64) -> f64, rfg : &mut RandomFloatGenerator)\n",
        "            -> Option::<(f64, f64)> {\n",
        "    let mut min_xy : Option::<(f64, f64)> = None;\n",
        "    loop {\n",
        "        match rfg.next() {\n",
        "            None => break,\n",
        "            Some(x) => {\n",
        "                let y = f(x);\n",
        "                min_xy = take_min(min_xy, x, y);\n",
        "            }\n",
        "        }\n",
        "    }\n",
        "    min_xy\n",
        "}"
      ],
      "execution_count": null,
      "outputs": []
    },
    {
      "cell_type": "markdown",
      "metadata": {
        "kernel": "SoS",
        "nbgrader": {
          "grade": false,
          "grade_id": "c-016",
          "locked": true,
          "schema_version": 3,
          "solution": false,
          "task": false
        }
      },
      "source": [
        "## <font color=\"green\"> Problem 4 :  Apply float -> float minimizer</font>",
        "\n",
        "Apply `minimize` to minimize function $f(x) = x(x-1)(x-2)$ in the interval $[0, 2]$\n",
        ""
      ]
    },
    {
      "cell_type": "code",
      "metadata": {
        "kernel": "OCaml default",
        "nbgrader": {
          "grade": false,
          "grade_id": "c-017",
          "locked": false,
          "schema_version": 3,
          "solution": false,
          "task": false
        }
      },
      "source": [
        "minimize (fun x -> x *. (x -. 1.0) *. (x -. 2.0)) (new random_float_generator 0.0 2.0 10000)\n",
        ";;"
      ],
      "execution_count": null,
      "outputs": []
    },
    {
      "cell_type": "code",
      "metadata": {
        "kernel": "Julia 1.10.2",
        "nbgrader": {
          "grade": false,
          "grade_id": "c-018",
          "locked": false,
          "schema_version": 3,
          "solution": false,
          "task": false
        }
      },
      "source": [
        "minimize(x -> x*(x-1)*(x-2), random_float_generator(0.0, 2.0, 10000))"
      ],
      "execution_count": null,
      "outputs": []
    },
    {
      "cell_type": "code",
      "metadata": {
        "kernel": "Go",
        "nbgrader": {
          "grade": false,
          "grade_id": "c-019",
          "locked": false,
          "schema_version": 3,
          "solution": false,
          "task": false
        }
      },
      "source": [
        "import \"fmt\"\n",
        "func main() {\n",
        "        f := func (x float64) float64 {\n",
        "                return x * (x - 1.0) * (x - 2.0)\n",
        "        }\n",
        "        rfg := mk_random_float_generator(0.0, 2.0, 10000)\n",
        "        x, y, some := minimize(f, rfg)\n",
        "        if some {\n",
        "                fmt.Printf(\"%f %f\\n\", x, y);\n",
        "        } else {\n",
        "                fmt.Printf(\"\\n\");\n",
        "        }\n",
        "}\n",
        "main()"
      ],
      "execution_count": null,
      "outputs": []
    },
    {
      "cell_type": "code",
      "metadata": {
        "kernel": "Rust",
        "nbgrader": {
          "grade": false,
          "grade_id": "c-020",
          "locked": false,
          "schema_version": 3,
          "solution": false,
          "task": false
        }
      },
      "source": [
        "fn main() {\n",
        "    fn f(x : f64) -> f64 { x * (x - 1.0) * (x - 2.0) }\n",
        "    let mut rfg = mk_random_float_generator(0.0, 2.0, 1000);\n",
        "    match minimize(f, &mut rfg) {\n",
        "        Some((x, y)) => println!(\"{} {}\", x, y),\n",
        "        None => println!(\"\")\n",
        "    }\n",
        "}\n",
        "main();"
      ],
      "execution_count": null,
      "outputs": []
    },
    {
      "cell_type": "markdown",
      "metadata": {
        "kernel": "SoS",
        "nbgrader": {
          "grade": false,
          "grade_id": "c-021",
          "locked": true,
          "schema_version": 3,
          "solution": false,
          "task": false
        }
      },
      "source": [
        "# 6. A first step to make it generic",
        "\n",
        "* You will notice that the underlying principles or the algorithm dictated by the `minimize` function defined above generically works for domains other than floating point numbers; all it is doing is to draw an element from a domain and apply the function to it, with nothing specific to a floating point number\n",
        "* It is therefore quite natural to desire it be generic in our programs too\n",
        "* Remarkably, it is automatically happening in some languages (which one, do you think?)\n",
        "* In other languages, the objective function $f$ explicitly takes a floating point number and your domain parameter is `float_random_generator`, both of which prevent us from applying the same function to any other domain\n",
        "\n",
        "* Let's first fix the latter, that is, its domain parameter hard-coded to `float_random_generator`\n",
        "\n",
        "## <font color=\"green\"> Problem 5 :  A somewhat generic float -> float minimizer</font>",
        "\n",
        "* If necessary in your language, make an interface or a similar mechanism, called `float_generator`, that represents any type that has `next()` method that returns a floating point number\n",
        "* Clearly, `float_random_generator` clearly implements `float_generator`; make it explicit if required in your language\n",
        "* Fix the `minimize` function so as to takes any type that implements the above interface"
      ]
    },
    {
      "cell_type": "code",
      "metadata": {
        "kernel": "OCaml default",
        "nbgrader": {
          "grade": false,
          "grade_id": "c-022",
          "locked": false,
          "schema_version": 3,
          "solution": false,
          "task": false
        }
      },
      "source": [
        "(* same as above (Problem 3) *)"
      ],
      "execution_count": null,
      "outputs": []
    },
    {
      "cell_type": "code",
      "metadata": {
        "kernel": "Julia 1.10.2",
        "nbgrader": {
          "grade": false,
          "grade_id": "c-023",
          "locked": false,
          "schema_version": 3,
          "solution": false,
          "task": false
        }
      },
      "source": [
        "# same as above (Problem 3)"
      ],
      "execution_count": null,
      "outputs": []
    },
    {
      "cell_type": "code",
      "metadata": {
        "kernel": "Go",
        "nbgrader": {
          "grade": false,
          "grade_id": "c-024",
          "locked": false,
          "schema_version": 3,
          "solution": false,
          "task": false
        }
      },
      "source": [
        "type FloatGenerator interface {\n",
        "        next() (float64, bool)\n",
        "}\n",
        "\n",
        "func minimize (f func (float64) float64, rfg FloatGenerator) (float64, float64, bool) {\n",
        "        var min_x float64\n",
        "        var min_y float64\n",
        "        i := 0\n",
        "        for {\n",
        "                x, some := rfg.next()\n",
        "                if ! some { break }\n",
        "                y := f(x)\n",
        "                if i == 0 || y < min_y {\n",
        "                        min_y = y\n",
        "                        min_x = x\n",
        "                }\n",
        "                i += 1\n",
        "        }\n",
        "        return min_x, min_y, i > 0\n",
        "}"
      ],
      "execution_count": null,
      "outputs": []
    },
    {
      "cell_type": "code",
      "metadata": {
        "kernel": "Rust",
        "nbgrader": {
          "grade": false,
          "grade_id": "c-025",
          "locked": false,
          "schema_version": 3,
          "solution": false,
          "task": false
        }
      },
      "source": [
        "trait FloatGenerator {\n",
        "    fn next(&mut self) -> Option<f64>;\n",
        "}\n",
        "\n",
        "impl FloatGenerator for RandomFloatGenerator {\n",
        "    fn next(&mut self) -> Option<f64> {\n",
        "        if self.i < self.n {\n",
        "            let x = self.a + (self.b - self.a) * self.rng.gen::<f64>();\n",
        "            self.i += 1;\n",
        "            return Some(x)\n",
        "        } else {\n",
        "            return None\n",
        "        }\n",
        "    }\n",
        "}\n",
        "\n",
        "fn take_min(min_xy : Option::<(f64, f64)>, x : f64, y : f64)\n",
        "            -> Option::<(f64, f64)> {\n",
        "    match min_xy {\n",
        "        None => Some((x, y)),\n",
        "        Some((_, min_y)) =>\n",
        "            if y < min_y {\n",
        "                Some((x, y))\n",
        "            } else {\n",
        "                min_xy\n",
        "            }\n",
        "    }\n",
        "}\n",
        "\n",
        "fn minimize(f : fn (f64) -> f64, rfg : &mut dyn FloatGenerator)\n",
        "            -> Option::<(f64, f64)> {\n",
        "    let mut min_xy : Option::<(f64, f64)> = None;\n",
        "    loop {\n",
        "        match rfg.next() {\n",
        "            None => break,\n",
        "            Some(x) => {\n",
        "                let y = f(x);\n",
        "                min_xy = take_min(min_xy, x, y);\n",
        "            }\n",
        "        }\n",
        "    }\n",
        "    min_xy\n",
        "}"
      ],
      "execution_count": null,
      "outputs": []
    },
    {
      "cell_type": "markdown",
      "metadata": {
        "kernel": "SoS",
        "nbgrader": {
          "grade": false,
          "grade_id": "c-026",
          "locked": true,
          "schema_version": 3,
          "solution": false,
          "task": false
        }
      },
      "source": [
        "## <font color=\"green\"> Problem 6 :  Apply a somewhat generic float -> float minimizer</font>",
        "\n",
        "Check the new `minimize` works for the same function $f(x) = x(x-1)(x-2)$ and the `float_random_generator`"
      ]
    },
    {
      "cell_type": "code",
      "metadata": {
        "kernel": "OCaml default",
        "nbgrader": {
          "grade": false,
          "grade_id": "c-027",
          "locked": false,
          "schema_version": 3,
          "solution": false,
          "task": false
        }
      },
      "source": [
        "(* same as above (Problem 4) *)"
      ],
      "execution_count": null,
      "outputs": []
    },
    {
      "cell_type": "code",
      "metadata": {
        "kernel": "Julia 1.10.2",
        "nbgrader": {
          "grade": false,
          "grade_id": "c-028",
          "locked": false,
          "schema_version": 3,
          "solution": false,
          "task": false
        }
      },
      "source": [
        "# same as above (Problem 4)"
      ],
      "execution_count": null,
      "outputs": []
    },
    {
      "cell_type": "code",
      "metadata": {
        "kernel": "Go",
        "nbgrader": {
          "grade": false,
          "grade_id": "c-029",
          "locked": false,
          "schema_version": 3,
          "solution": false,
          "task": false
        }
      },
      "source": [
        "func main() {\n",
        "        f := func (x float64) float64 {\n",
        "                return x * (x - 1.0) * (x - 2.0)\n",
        "        }\n",
        "        rfg := mk_random_float_generator(0.0, 2.0, 10000)\n",
        "        x, y, some := minimize(f, rfg)\n",
        "        if some {\n",
        "                fmt.Printf(\"%f %f\\n\", x, y);\n",
        "        } else {\n",
        "                fmt.Printf(\"\\n\");\n",
        "        }\n",
        "}\n",
        "main()"
      ],
      "execution_count": null,
      "outputs": []
    },
    {
      "cell_type": "code",
      "metadata": {
        "kernel": "Rust",
        "nbgrader": {
          "grade": false,
          "grade_id": "c-030",
          "locked": false,
          "schema_version": 3,
          "solution": false,
          "task": false
        }
      },
      "source": [
        "fn main() {\n",
        "    fn f(x : f64) -> f64 { x * (x - 1.0) * (x - 2.0) }\n",
        "    let mut rfg = mk_random_float_generator(0.0, 2.0, 1000);\n",
        "    match minimize(f, &mut rfg) {\n",
        "        Some((x, y)) => println!(\"{} {}\", x, y),\n",
        "        None => println!(\"\")\n",
        "    }\n",
        "}\n",
        "main();"
      ],
      "execution_count": null,
      "outputs": []
    },
    {
      "cell_type": "markdown",
      "metadata": {
        "kernel": "SoS",
        "nbgrader": {
          "grade": false,
          "grade_id": "c-031",
          "locked": true,
          "schema_version": 3,
          "solution": false,
          "task": false
        }
      },
      "source": [
        "# 8. A warm up for a generic type",
        "\n",
        "## <font color=\"green\"> Problem 7 :  Define a trivial generic type and a function</font>",
        "\n",
        "* Master the syntax of parameterized data type, creating an instance such types and parameterized functions\n",
        "* As a practice, define a parameterized data type, called `triv`, that takes any value $x$ of any type $T$, and a function that takes a value of `triv` type and returns its value. That is, something along the following in your language\n",
        "```\n",
        "s = triv(3)\n",
        "x = triv_val(s) # should return 3\n",
        "t = triv(\"hello\")\n",
        "y = triv_val(t) # should return \"hello\"\n",
        "```\n",
        "\n",
        "* The syntax differs between languages\n",
        "\n",
        " |     |                |                                         |\n",
        " |-----|----------------|-----------------------------------------|\n",
        " |Go   |generator[$T$]  |[Tutorial: Getting started with generics](https://go.dev/doc/tutorial/generics)|\n",
        " |Julia|generator{$T$}  |[Parametric Types](https://docs.julialang.org/en/v1/manual/types/#Parametric-Types)|\n",
        " |Julia|generator{$T$}  |[Parametric Methods](https://docs.julialang.org/en/v1/manual/methods/#Parametric-Methods)|\n",
        " |Rust |generator<$T$>  |[Generic Data Types](https://doc.rust-lang.org/book/ch10-01-syntax.html#generic-data-types)|\n",
        " |OCaml|$'a$ generator  |[Records and variants](https://ocaml.org/manual/coreexamples.html#s:tut-recvariants)|\n",
        "\n",
        ""
      ]
    },
    {
      "cell_type": "code",
      "metadata": {
        "kernel": "OCaml default",
        "nbgrader": {
          "grade": false,
          "grade_id": "c-032",
          "locked": false,
          "schema_version": 3,
          "solution": false,
          "task": false
        }
      },
      "source": [
        "type 'a triv = Triv of 'a\n",
        ";;\n",
        "let triv_val (Triv(x)) = x\n",
        ";;"
      ],
      "execution_count": null,
      "outputs": []
    },
    {
      "cell_type": "code",
      "metadata": {
        "kernel": "Julia 1.10.2",
        "nbgrader": {
          "grade": false,
          "grade_id": "c-033",
          "locked": false,
          "schema_version": 3,
          "solution": false,
          "task": false
        }
      },
      "source": [
        "struct Triv\n",
        "    x\n",
        "end\n",
        "triv_val(t) = t.x"
      ],
      "execution_count": null,
      "outputs": []
    },
    {
      "cell_type": "code",
      "metadata": {
        "kernel": "Go",
        "nbgrader": {
          "grade": false,
          "grade_id": "c-034",
          "locked": false,
          "schema_version": 3,
          "solution": false,
          "task": false
        }
      },
      "source": [
        "// does not work on Jupyter (use command line)\n",
        "type triv [T any] struct {\n",
        "        x T\n",
        "}\n",
        "func triv_val [T any] (t triv[T]) T {\n",
        "        return t.x\n",
        "}"
      ],
      "execution_count": null,
      "outputs": []
    },
    {
      "cell_type": "code",
      "metadata": {
        "kernel": "Rust",
        "nbgrader": {
          "grade": false,
          "grade_id": "c-035",
          "locked": false,
          "schema_version": 3,
          "solution": false,
          "task": false
        }
      },
      "source": [
        "struct Triv<T> {\n",
        "    x : T\n",
        "}\n",
        "fn triv_val<T>(t : Triv::<T>) -> T {\n",
        "    t.x\n",
        "}"
      ],
      "execution_count": null,
      "outputs": []
    },
    {
      "cell_type": "markdown",
      "metadata": {
        "kernel": "SoS",
        "nbgrader": {
          "grade": false,
          "grade_id": "c-036",
          "locked": true,
          "schema_version": 3,
          "solution": false,
          "task": false
        }
      },
      "source": [
        "# 9. Generic (parameterized) functions and types",
        "\n",
        "* Now we are ready to make `minimize` truly generic, in the sense that it can now minimize a function whose domain is not a floating point number\n",
        "* To this end, you need to _parameterize_ `float_generator`\n",
        "* Let's call it `generator`; it can take a type parameter $T$ and its `next()` method now generates a value of $T$\n",
        "\n",
        "## <font color=\"green\"> Problem 8 :  A generic T -> float minimizer</font>",
        "\n",
        "* Parameterize the generator type, as well as the type of incoming parameters of `minimize`, so that it can minimize functions taking values other than a floating point number (e.g., an integer or a pair of floats)\n",
        ""
      ]
    },
    {
      "cell_type": "code",
      "metadata": {
        "kernel": "OCaml default",
        "nbgrader": {
          "grade": false,
          "grade_id": "c-037",
          "locked": false,
          "schema_version": 3,
          "solution": false,
          "task": false
        }
      },
      "source": [
        "(* same as above (Problem 3) *)"
      ],
      "execution_count": null,
      "outputs": []
    },
    {
      "cell_type": "code",
      "metadata": {
        "kernel": "Julia 1.10.2",
        "nbgrader": {
          "grade": false,
          "grade_id": "c-038",
          "locked": false,
          "schema_version": 3,
          "solution": false,
          "task": false
        }
      },
      "source": [
        "# same as above (Problem 3)"
      ],
      "execution_count": null,
      "outputs": []
    },
    {
      "cell_type": "code",
      "metadata": {
        "kernel": "Go",
        "nbgrader": {
          "grade": false,
          "grade_id": "c-039",
          "locked": false,
          "schema_version": 3,
          "solution": false,
          "task": false
        }
      },
      "source": [
        "// does not work on Jupyter (use command line)\n",
        "type Generator [T any] interface {\n",
        "        next() (T, bool)\n",
        "}\n",
        "\n",
        "func minimize [T any] (f func (T) float64,\n",
        "        rg Generator[T]) (T, float64, bool) {\n",
        "        var min_x T\n",
        "        var min_y float64\n",
        "        i := 0\n",
        "        for {\n",
        "                x, some := rg.next()\n",
        "                if ! some { break }\n",
        "                y := f(x)\n",
        "                if i == 0 || y < min_y {\n",
        "                        min_y = y\n",
        "                        min_x = x\n",
        "                }\n",
        "                i += 1\n",
        "        }\n",
        "        return min_x, min_y, i > 0\n",
        "}"
      ],
      "execution_count": null,
      "outputs": []
    },
    {
      "cell_type": "code",
      "metadata": {
        "kernel": "Rust",
        "nbgrader": {
          "grade": false,
          "grade_id": "c-040",
          "locked": false,
          "schema_version": 3,
          "solution": false,
          "task": false
        }
      },
      "source": [
        "extern crate rand;\n",
        "use rand::Rng;\n",
        "\n",
        "trait Generator<T : Copy> {\n",
        "    fn next(&mut self) -> Option<T>;\n",
        "}\n",
        "\n",
        "impl Generator<f64> for RandomFloatGenerator {\n",
        "    fn next(&mut self) -> Option<f64> {\n",
        "        if self.i < self.n {\n",
        "            let x = self.a + (self.b - self.a) * self.rng.gen::<f64>();\n",
        "            self.i += 1;\n",
        "            return Some(x)\n",
        "        } else {\n",
        "            return None\n",
        "        }\n",
        "    }\n",
        "}\n",
        "\n",
        "fn take_min<T : Copy>(min_xy : Option::<(T, f64)>, x : T, y : f64)\n",
        "                      -> Option::<(T, f64)> {\n",
        "    match min_xy {\n",
        "        None => Some((x, y)),\n",
        "        Some((_, min_y)) =>\n",
        "            if y < min_y {\n",
        "                Some((x, y))\n",
        "            } else {\n",
        "                min_xy\n",
        "            }\n",
        "    }\n",
        "}\n",
        "\n",
        "fn minimize<T : Copy>(f : fn (T) -> f64, rfg : &mut dyn Generator<T>)\n",
        "            -> Option::<(T, f64)> {\n",
        "    let mut min_xy : Option::<(T, f64)> = None;\n",
        "    loop {\n",
        "        match rfg.next() {\n",
        "            None => break,\n",
        "            Some(x) => {\n",
        "                let y = f(x);\n",
        "                min_xy = take_min(min_xy, x, y);\n",
        "            }\n",
        "        }\n",
        "    }\n",
        "    min_xy\n",
        "}"
      ],
      "execution_count": null,
      "outputs": []
    },
    {
      "cell_type": "markdown",
      "metadata": {
        "kernel": "SoS",
        "nbgrader": {
          "grade": false,
          "grade_id": "c-041",
          "locked": true,
          "schema_version": 3,
          "solution": false,
          "task": false
        }
      },
      "source": [
        "\n",
        "## <font color=\"green\"> Problem 9 :  Apply a generic T -> float minimizer</font>",
        "\n",
        "* Write a generator `ellipse_generator`, which takes an ellipse's center $(x_0, y_0)$ and horizontal and vertical radius $a$ and $b$ upon creation and whose `next()` method returns a pair of floats inside the ellipse. That is, `next()` should return a random point $(x, y)$ satisfying\n",
        "$$\\frac{(x-x_0)^2}{a^2} + \\frac{(y-y_0)^2}{b^2} \\leq 1$$\n",
        "* Minimize function $f(x, y) = x^2 + y^2$ in the ellipse whose center $= (3, 3)$, $a = 2$ and $b = 1$\n",
        ""
      ]
    },
    {
      "cell_type": "code",
      "metadata": {
        "kernel": "OCaml default",
        "nbgrader": {
          "grade": false,
          "grade_id": "c-042",
          "locked": false,
          "schema_version": 3,
          "solution": false,
          "task": false
        }
      },
      "source": [
        "class ellipse_generator x0 y0 a b n = object\n",
        "  val mutable i = 0\n",
        "  method next =\n",
        "    let rec loop () = \n",
        "      if i < n then\n",
        "        let rx = (Random.float 2.0) -. 1.0 in\n",
        "        let ry = (Random.float 2.0) -. 1.0 in\n",
        "        if rx *. rx +. ry *. ry <= 1.0 then\n",
        "          let x = x0 +. a *. rx in\n",
        "          let y = y0 +. b *. ry in\n",
        "          let _ = i <- i + 1 in\n",
        "          Some((x, y))\n",
        "        else\n",
        "          loop ()\n",
        "      else\n",
        "        None\n",
        "    in loop ()\n",
        "end\n",
        ";;\n",
        "minimize (fun (x, y) -> x *. x +. y *. y) (new ellipse_generator 3.0 3.0 2.0 1.0 10000)\n",
        ";;"
      ],
      "execution_count": null,
      "outputs": []
    },
    {
      "cell_type": "code",
      "metadata": {
        "kernel": "Julia 1.10.2",
        "nbgrader": {
          "grade": false,
          "grade_id": "c-043",
          "locked": false,
          "schema_version": 3,
          "solution": false,
          "task": false
        }
      },
      "source": [
        "mutable struct ellipse_generator\n",
        "    x0 :: Float64\n",
        "    y0 :: Float64\n",
        "    a :: Float64\n",
        "    b :: Float64\n",
        "    n :: Int64\n",
        "    i :: Int64\n",
        "end\n",
        "\n",
        "function ellipse_generator(x0, y0, a, b, n)\n",
        "    ellipse_generator(x0, y0, a, b, n, 0)\n",
        "end\n",
        "\n",
        "function next(eg :: ellipse_generator)\n",
        "    if eg.i < eg.n\n",
        "        while true \n",
        "            rx = -1.0 + 2.0 * rand(Float64)\n",
        "            ry = -1.0 + 2.0 * rand(Float64)\n",
        "            if rx * rx + ry * ry < 1.0\n",
        "                x = eg.x0 + eg.a * rx\n",
        "                y = eg.y0 + eg.b * ry\n",
        "                eg.i += 1\n",
        "                return (x, y)\n",
        "            end\n",
        "        end\n",
        "    else\n",
        "        nothing\n",
        "    end\n",
        "end\n",
        "\n",
        "minimize(((x, y),) -> x * x + y * y,\n",
        "         ellipse_generator(3.0, 3.0, 2.0, 1.0, 10000))"
      ],
      "execution_count": null,
      "outputs": []
    },
    {
      "cell_type": "code",
      "metadata": {
        "kernel": "Go",
        "nbgrader": {
          "grade": false,
          "grade_id": "c-044",
          "locked": false,
          "schema_version": 3,
          "solution": false,
          "task": false
        }
      },
      "source": [
        "// does not work on Jupyter (use command line)\n",
        "type EllipseGenerator struct {\n",
        "        x0, y0, a, b float64\n",
        "        n int\n",
        "        i int\n",
        "        rng * rand.Rand\n",
        "}\n",
        "\n",
        "func mk_ellipse_generator(x0, y0, a, b float64, n int) * EllipseGenerator {\n",
        "        rng := rand.New(rand.NewSource(123456));\n",
        "        return &EllipseGenerator{x0, y0, a, b, n, 0, rng};\n",
        "}\n",
        "\n",
        "func (eg * EllipseGenerator) next() ([2]float64, bool) {\n",
        "        if eg.i < eg.n {\n",
        "                for {\n",
        "                        rx := -1 + 2 * eg.rng.Float64()\n",
        "                        ry := -1 + 2 * eg.rng.Float64()\n",
        "                        if rx * rx + ry * ry < 1.0 {\n",
        "                                x := eg.x0 + rx * eg.a\n",
        "                                y := eg.y0 + ry * eg.b\n",
        "                                eg.i += 1\n",
        "                                return [2]float64{x, y}, true\n",
        "                        }\n",
        "                }\n",
        "        } else {\n",
        "                return [2]float64{0.0, 0.0}, false;\n",
        "        }\n",
        "}\n",
        "\n",
        "func main() {\n",
        "        f := func (xy [2]float64) float64 {\n",
        "                x := xy[0]\n",
        "                y := xy[1]\n",
        "                return x * x + y * y\n",
        "        }\n",
        "        rg := mk_ellipse_generator(3.0, 3.0, 2.0, 1.0, 10000)\n",
        "        xy, z, some := minimize[[2]float64](f, rg)\n",
        "        if some {\n",
        "                fmt.Printf(\"%f %f %f\\n\", xy[0], xy[1], z);\n",
        "        } else {\n",
        "                fmt.Printf(\"\\n\");\n",
        "        }\n",
        "}\n",
        "main()"
      ],
      "execution_count": null,
      "outputs": []
    },
    {
      "cell_type": "code",
      "metadata": {
        "kernel": "Rust",
        "nbgrader": {
          "grade": false,
          "grade_id": "c-045",
          "locked": false,
          "schema_version": 3,
          "solution": false,
          "task": false
        }
      },
      "source": [
        "struct EllipseGenerator {\n",
        "    x0 : f64,\n",
        "    y0 : f64,\n",
        "    a : f64,\n",
        "    b : f64,\n",
        "    n : i32,\n",
        "    i : i32,\n",
        "    rng : rand::rngs::ThreadRng\n",
        "}\n",
        "\n",
        "fn mk_ellipse_generator(x0 : f64, y0 : f64, a : f64, b : f64, n : i32)\n",
        "                           -> EllipseGenerator {\n",
        "    let rng = rand::thread_rng();\n",
        "    let i = 0;\n",
        "    EllipseGenerator{x0, y0, a, b, n, i, rng}\n",
        "}\n",
        "\n",
        "impl Generator::<(f64, f64)> for EllipseGenerator {\n",
        "    fn next(&mut self) -> Option<(f64, f64)> {\n",
        "        if self.i < self.n {\n",
        "            loop {\n",
        "                let rx = -1.0 + 2.0 * self.rng.gen::<f64>();\n",
        "                let ry = -1.0 + 2.0 * self.rng.gen::<f64>();\n",
        "                if rx * rx + ry * ry < 1.0 {\n",
        "                    let x = self.x0 + self.a * rx;\n",
        "                    let y = self.y0 + self.b * ry;\n",
        "                    self.i += 1;\n",
        "                    return Some((x, y))\n",
        "                }\n",
        "            }\n",
        "        } else {\n",
        "            return None\n",
        "        }\n",
        "    }\n",
        "}\n",
        "\n",
        "fn main() {\n",
        "    fn f(x : (f64, f64)) -> f64 { x.0 * x.0 + x.1 * x.1 }\n",
        "    let mut eg = mk_ellipse_generator(3.0, 3.0, 2.0, 1.0, 10000);\n",
        "    match minimize(f, &mut eg) {\n",
        "        Some((x, y)) => println!(\"{} {} {}\", x.0, x.1, y),\n",
        "        None => println!(\"\")\n",
        "    }\n",
        "}\n",
        "main();"
      ],
      "execution_count": null,
      "outputs": []
    }
  ],
  "metadata": {
    "celltoolbar": "Create Assignment",
    "kernelspec": {
      "display_name": "SoS",
      "language": "sos",
      "name": "sos"
    },
    "language_info": {
      "codemirror_mode": "sos",
      "file_extension": ".sos",
      "mimetype": "text/x-sos",
      "name": "sos",
      "nbconvert_exporter": "sos_notebook.converter.SoS_Exporter",
      "pygments_lexer": "sos"
    },
    "sos": {
      "kernels": [
        [
          "Bash",
          "bash",
          "bash",
          "",
          "shell"
        ],
        [
          "C",
          "c_kernel",
          "c",
          "",
          ""
        ],
        [
          "Go",
          "gophernotes",
          "go",
          "",
          ""
        ],
        [
          "Julia 1.10.2",
          "julia-1.10",
          "julia",
          "",
          ""
        ],
        [
          "OCaml default",
          "ocaml-jupyter",
          "OCaml",
          "",
          "text/x-ocaml"
        ],
        [
          "Python 3 (ipykernel)",
          "python3",
          "python3",
          "",
          {
            "name": "ipython",
            "version": 3
          }
        ],
        [
          "Rust",
          "rust",
          "rust",
          "",
          ""
        ]
      ],
      "panel": {
        "displayed": true,
        "height": 0
      },
      "version": "0.23.3"
    }
  },
  "nbformat": 4,
  "nbformat_minor": 4
}