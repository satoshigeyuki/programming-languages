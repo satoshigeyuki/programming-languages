{
  "cells": [
    {
      "cell_type": "markdown",
      "metadata": {
        "kernel": "SoS",
        "nbgrader": {
          "grade": false,
          "grade_id": "c-001",
          "locked": true,
          "schema_version": 3,
          "solution": false,
          "task": false
        }
      },
      "source": [
        "\n",
        "#  Programming Languages (2) ---Functional Programming Basics",
        ""
      ]
    },
    {
      "cell_type": "markdown",
      "metadata": {
        "kernel": "SoS",
        "nbgrader": {
          "grade": false,
          "grade_id": "c-002",
          "locked": false,
          "schema_version": 3,
          "solution": false,
          "task": false
        }
      },
      "source": [
        "\n",
        "Enter your name and student ID.\n",
        "\n",
        " * Name:\n",
        " * Student ID:\n",
        ""
      ]
    },
    {
      "cell_type": "markdown",
      "metadata": {
        "kernel": "SoS",
        "nbgrader": {
          "grade": false,
          "grade_id": "c-003",
          "locked": true,
          "schema_version": 3,
          "solution": false,
          "task": false
        }
      },
      "source": [
        "\n",
        "# 1. Choose your language",
        "\n",
        "Choose a language you want to work on for today from the following.\n",
        "\n",
        "* Go --- designed as a \"better C\"\n",
        "* Julia --- popular for scientific computing\n",
        "* OCaml --- a practical functional language\n",
        "* Rust --- a system programming language with memory safety without garbage collection\n",
        "\n",
        "Declare your choice in the following cell.  You can write any number of languages you actually worked on.  In this notebook, I will work on the following language(s)."
      ]
    },
    {
      "cell_type": "markdown",
      "metadata": {
        "kernel": "SoS",
        "nbgrader": {
          "grade": true,
          "grade_id": "p-001",
          "locked": false,
          "schema_version": 3,
          "solution": true,
          "task": false,
          "points": 1
        }
      },
      "source": [
        "BEGIN SOLUTION\n",
        "END SOLUTION"
      ]
    },
    {
      "cell_type": "markdown",
      "metadata": {
        "kernel": "SoS",
        "nbgrader": {
          "grade": false,
          "grade_id": "c-004",
          "locked": true,
          "schema_version": 3,
          "solution": false,
          "task": false
        }
      },
      "source": [
        "# 2. Roadmap",
        "\n",
        "* Below, you are going to learn the basics of functional programming.\n",
        "\n",
        "* Note: follow case conventions/requirements about type names of your language; Go, Julia and Rust conventionally capitalize them and OCaml requires them to be in lowercase\n",
        "\n",
        "# 3. Read documents",
        "\n",
        "* Before you start, spend some time to go through relevant sections of your language manual\n",
        "\n",
        "* [Go:](https://go.dev/doc/)\n",
        "* [Julia:](https://docs.julialang.org/en/v1/)\n",
        "* [OCaml:](https://ocaml.org/manual/)\n",
        "* Rust: [language manual](https://doc.rust-lang.org/book/) and [other docs](https://www.rust-lang.org/learn)\n",
        ""
      ]
    },
    {
      "cell_type": "markdown",
      "metadata": {
        "kernel": "SoS",
        "nbgrader": {
          "grade": false,
          "grade_id": "c-005",
          "locked": true,
          "schema_version": 3,
          "solution": false,
          "task": false
        }
      },
      "source": [
        "# <font color=\"green\"> Problem 1 :  A simple recurrence relation</font>",
        "\n",
        "Write a \"functional program\" that is given $n$ and computes the value of $a_n$ of the following recurrence.\n",
        "\n",
        "$$\n",
        "\\begin{eqnarray*}\n",
        "   a_0 & = & 1, \\\\\n",
        "   a_n & = & 0.9\\; a_{n-1} + 2 \\quad (n > 0)\n",
        "\\end{eqnarray*}\n",
        "$$\n",
        "\n",
        "\n",
        "The following is a \"procedural\" version in Python."
      ]
    },
    {
      "cell_type": "code",
      "metadata": {
        "kernel": "Python 3 (ipykernel)",
        "nbgrader": {
          "grade": false,
          "grade_id": "c-006",
          "locked": true,
          "schema_version": 3,
          "solution": false,
          "task": false
        }
      },
      "source": [
        "def a(n):\n",
        "    x = 1.0\n",
        "    for i in range(n):\n",
        "        x = 0.9 * x + 2.0\n",
        "    return x"
      ],
      "execution_count": null,
      "outputs": []
    },
    {
      "cell_type": "markdown",
      "metadata": {
        "kernel": "SoS",
        "nbgrader": {
          "grade": false,
          "grade_id": "c-007",
          "locked": true,
          "schema_version": 3,
          "solution": false,
          "task": false
        }
      },
      "source": [
        "* Here, you are asked to write a \"functional\" version, whose superficial characteristics are\n",
        "  * it does not use loops\n",
        "  * it does not update variables\n",
        "\n",
        "* But more important is the fact that you can straightforwardly express the above recurrence using a recursive call.\n",
        "* Once you master this way of thinking, you don't even have to think of loops or updating variables.\n",
        "\n",
        "* <font color=\"red\">In cells that follow, choose your language from the language selection menu.</font>"
      ]
    },
    {
      "cell_type": "markdown",
      "metadata": {
        "kernel": "SoS",
        "nbgrader": {
          "grade": false,
          "grade_id": "c-008",
          "locked": true,
          "schema_version": 3,
          "solution": false,
          "task": false
        }
      },
      "source": [
        "**解答セル/Answer Cell**"
      ]
    },
    {
      "cell_type": "code",
      "metadata": {
        "kernel": "Python 3 (ipykernel)",
        "nbgrader": {
          "grade": true,
          "grade_id": "p-002",
          "locked": false,
          "schema_version": 3,
          "solution": true,
          "task": false,
          "points": 1
        }
      },
      "source": [
        "BEGIN SOLUTION\n",
        "END SOLUTION"
      ],
      "execution_count": null,
      "outputs": []
    },
    {
      "cell_type": "markdown",
      "metadata": {
        "kernel": "SoS",
        "nbgrader": {
          "grade": false,
          "grade_id": "c-009",
          "locked": true,
          "schema_version": 3,
          "solution": false,
          "task": false
        }
      },
      "source": [
        "# <font color=\"green\"> Problem 2 :  Find a divisor</font>",
        "\n",
        "Write a program, or more specifically a function, smallest_divisor_geq($n$, $a$), that finds the smallest divisor of a given integer $n$ that is $\\geq a$.  In Python syntax, \n",
        "\n",
        "```\n",
        ">>> smallest_divisor_geq(10, 2)\n",
        "2\n",
        ">>> smallest_divisor_geq(35, 2)\n",
        "5\n",
        ">>> smallest_divisor_geq(43, 2)\n",
        "43\n",
        "```\n",
        "\n",
        "Write it in a \"functional\" style (no loops or updates to variables).\n",
        "\n",
        "Hint: functional thinking goes: \"The trivial case is when $a$ divides $n$. Otherwise?\""
      ]
    },
    {
      "cell_type": "markdown",
      "metadata": {
        "kernel": "SoS",
        "nbgrader": {
          "grade": false,
          "grade_id": "c-010",
          "locked": true,
          "schema_version": 3,
          "solution": false,
          "task": false
        }
      },
      "source": [
        "**解答セル/Answer Cell**"
      ]
    },
    {
      "cell_type": "code",
      "metadata": {
        "kernel": "Python 3 (ipykernel)",
        "nbgrader": {
          "grade": true,
          "grade_id": "p-003",
          "locked": false,
          "schema_version": 3,
          "solution": true,
          "task": false,
          "points": 1
        }
      },
      "source": [
        "BEGIN SOLUTION\n",
        "END SOLUTION"
      ],
      "execution_count": null,
      "outputs": []
    },
    {
      "cell_type": "markdown",
      "metadata": {
        "kernel": "SoS",
        "nbgrader": {
          "grade": false,
          "grade_id": "c-011",
          "locked": true,
          "schema_version": 3,
          "solution": false,
          "task": false
        }
      },
      "source": [
        "# <font color=\"green\"> Problem 3 :  Factorization</font>",
        "\n",
        "Write a program, or more specifically, a function factorize($n$), that finds the factorization of $n$.  The answer should be a list (or an array) of integers, whose products $=$ $n$.  For convenience, the factorization of 1 is an empty list (or an array).  In Python,\n",
        "\n",
        "```\n",
        ">>> factorize(12)\n",
        "[2,2,3]\n",
        ">>> factorize(105)\n",
        "[3,5,7]\n",
        ">>> factorize(19)\n",
        "[19]\n",
        ">>> factorize(1)\n",
        "[]\n",
        "```\n",
        "\n",
        "Hint:\n",
        "\n",
        "* Once you find a divisor of $n$, say $a$, just factorize $n/a$.\n",
        "* To solve this problem, you probably need a method that takes an integer a0 and a sequence [a1, a2, a3, ...] and returns the sequence [a0, a1, a2, ...].  Here is how you can do it with each of the languages.\n",
        "  * Go : [append](https://pkg.go.dev/builtin#append)\n",
        "  * Julia : [vcat](https://docs.julialang.org/en/v1/base/arrays/#Base.vcat)\n",
        "  * OCaml : builtin operator [::](https://ocaml.org/docs/lists) just does that (e.g., 2 :: [3; 4] => [2;3;4])\n",
        "  * Rust : [concat](https://doc.rust-lang.org/std/slice/trait.Concat.html). [a, b].concat() is the concatenation of two vectors\n",
        ""
      ]
    },
    {
      "cell_type": "markdown",
      "metadata": {
        "kernel": "SoS",
        "nbgrader": {
          "grade": false,
          "grade_id": "c-012",
          "locked": true,
          "schema_version": 3,
          "solution": false,
          "task": false
        }
      },
      "source": [
        "**解答セル/Answer Cell**"
      ]
    },
    {
      "cell_type": "code",
      "metadata": {
        "kernel": "Python 3 (ipykernel)",
        "nbgrader": {
          "grade": true,
          "grade_id": "p-004",
          "locked": false,
          "schema_version": 3,
          "solution": true,
          "task": false,
          "points": 1
        }
      },
      "source": [
        "BEGIN SOLUTION\n",
        "END SOLUTION"
      ],
      "execution_count": null,
      "outputs": []
    },
    {
      "cell_type": "markdown",
      "metadata": {
        "kernel": "SoS",
        "nbgrader": {
          "grade": false,
          "grade_id": "c-013",
          "locked": true,
          "schema_version": 3,
          "solution": false,
          "task": false
        }
      },
      "source": [
        "# <font color=\"green\"> Problem 4 :  When recursion becomes critical</font>",
        "\n",
        "* Write a function knapsack(a, v) which, given an array (or a similar sequence data structure) of positive integers $a$ and a positive integer $v$, returns a subarray of $a$ whose sum is $v$ if such a subarray exists, or a special value indicating that there is no such a subarray\n",
        "* In Python syntax,\n",
        "\n",
        "```\n",
        ">>> knapsack([1, 1, 1, 10, 100], 12)\n",
        "[1,1,10]\n",
        ">>> knapsack([1, 1, 1, 10, 100], 19)\n",
        "None\n",
        ">>> knapsack([1, 2, 4, 8, 16], 13)\n",
        "[1, 4, 8]\n",
        "```"
      ]
    },
    {
      "cell_type": "markdown",
      "metadata": {
        "kernel": "SoS",
        "nbgrader": {
          "grade": false,
          "grade_id": "c-014",
          "locked": true,
          "schema_version": 3,
          "solution": false,
          "task": false
        }
      },
      "source": [
        "**解答セル/Answer Cell**"
      ]
    },
    {
      "cell_type": "code",
      "metadata": {
        "kernel": "Python 3 (ipykernel)",
        "nbgrader": {
          "grade": true,
          "grade_id": "p-005",
          "locked": false,
          "schema_version": 3,
          "solution": true,
          "task": false,
          "points": 1
        }
      },
      "source": [
        "BEGIN SOLUTION\n",
        "END SOLUTION"
      ],
      "execution_count": null,
      "outputs": []
    }
  ],
  "metadata": {
    "celltoolbar": "Create Assignment",
    "kernelspec": {
      "display_name": "SoS",
      "language": "sos",
      "name": "sos"
    },
    "language_info": {
      "codemirror_mode": "sos",
      "file_extension": ".sos",
      "mimetype": "text/x-sos",
      "name": "sos",
      "nbconvert_exporter": "sos_notebook.converter.SoS_Exporter",
      "pygments_lexer": "sos"
    },
    "sos": {
      "kernels": [
        [
          "Bash",
          "bash",
          "bash",
          "",
          "shell"
        ],
        [
          "C",
          "c_kernel",
          "c",
          "",
          ""
        ],
        [
          "Go",
          "gophernotes",
          "go",
          "",
          ""
        ],
        [
          "Julia 1.10.2",
          "julia-1.10",
          "julia",
          "",
          ""
        ],
        [
          "OCaml default",
          "ocaml-jupyter",
          "OCaml",
          "",
          "text/x-ocaml"
        ],
        [
          "Python 3 (ipykernel)",
          "python3",
          "python3",
          "",
          {
            "name": "ipython",
            "version": 3
          }
        ],
        [
          "Rust",
          "rust",
          "rust",
          "",
          ""
        ]
      ],
      "panel": {
        "displayed": true,
        "height": 0
      },
      "version": "0.23.3"
    }
  },
  "nbformat": 4,
  "nbformat_minor": 4
}