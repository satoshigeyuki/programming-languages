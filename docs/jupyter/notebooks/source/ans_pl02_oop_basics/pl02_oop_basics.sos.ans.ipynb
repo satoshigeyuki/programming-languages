{
  "cells": [
    {
      "cell_type": "markdown",
      "metadata": {
        "kernel": "SoS",
        "nbgrader": {
          "grade": false,
          "grade_id": "c-001",
          "locked": true,
          "schema_version": 3,
          "solution": false,
          "task": false
        }
      },
      "source": [
        "# 3. Class definition",
        "\n",
        "* A _class_ is a way to define a composite type along with some functions associated with it (_methods_)\n",
        "* Different languages call the mechanism differently; it is called `struct` in C++, Go, Julia, and Rust, or `class` in C++, Java, Python and OCaml\n",
        "* No matter how it's called in your language, it generally defines what kind of fields or functions (typically called _methods_) data of that class have\n",
        "\n",
        "## <font color=\"green\"> Problem 2 :  Define data structure representing a rectangle and an ellipse</font>",
        "\n",
        "* Define two new data types `rect` (or `Rect`) and `ellipse` (or `Ellipse`) representing a rectangle and an ellipse, respectively \n",
        "* For simplicity, you may assume sides of rectangles and axes of ellipses are parallel to x- or y-axis\n",
        "* We will later define a type that encompasses both of them (which might be named `shape` or `Shape`) if necessary and other shapes such as lines, polygons, etc.\n",
        "* Relevant constructs and related sections in the documentation\n",
        "\n",
        " |     |      |                                     |\n",
        " | :-- | :--- | :---------------------------------- |\n",
        " |Go   |struct|[Data](https://go.dev/doc/effective_go#data) |\n",
        " |Julia|struct|[Composite Types](https://docs.julialang.org/en/v1/manual/types/#Composite-Types)|\n",
        " |OCaml|class |[Objects in OCaml](https://ocaml.org/manual/objectexamples.html)|\n",
        " |Rust |struct|[Using Structs to Structure Related Data](https://doc.rust-lang.org/book/ch05-00-structs.html)|\n",
        "\n",
        "* Note: In OCaml, you could use `type` construct to define just a single type `shape` with two constructors (perhaps `Rect` and `Ellipse`).  Similarly, you can use `enum` with multiple constructors in Rust.\n",
        "* In this exercise, however, use `class`/`object` of OCaml or `struct` of Rust to define each of rectangle and ellipse as a separate type\n",
        "\n",
        "* Note: when using `class`/`object` of OCaml, you need to define its methods at the same time.  You can do it here or the problem below\n",
        ""
      ]
    },
    {
      "cell_type": "code",
      "metadata": {
        "kernel": "OCaml default",
        "nbgrader": {
          "grade": false,
          "grade_id": "c-002",
          "locked": false,
          "schema_version": 3,
          "solution": false,
          "task": false
        }
      },
      "source": [
        "(* done below *)"
      ],
      "execution_count": null,
      "outputs": []
    },
    {
      "cell_type": "code",
      "metadata": {
        "kernel": "Julia 1.8.5",
        "nbgrader": {
          "grade": false,
          "grade_id": "c-003",
          "locked": false,
          "schema_version": 3,
          "solution": false,
          "task": false
        }
      },
      "source": [
        "struct Rect\n",
        "    x :: Int\n",
        "    y :: Int\n",
        "    width :: Int\n",
        "    height :: Int\n",
        "end\n",
        "\n",
        "struct Ellipse\n",
        "    x :: Int\n",
        "    y :: Int\n",
        "    rx :: Int\n",
        "    ry :: Int\n",
        "end"
      ],
      "execution_count": null,
      "outputs": []
    },
    {
      "cell_type": "code",
      "metadata": {
        "kernel": "Go",
        "nbgrader": {
          "grade": false,
          "grade_id": "c-004",
          "locked": false,
          "schema_version": 3,
          "solution": false,
          "task": false
        }
      },
      "source": [
        "type rect struct {\n",
        "        x, y, width, height int\n",
        "}\n",
        "\n",
        "type ellipse struct {\n",
        "        x, y, rx, ry int\n",
        "}"
      ],
      "execution_count": null,
      "outputs": []
    },
    {
      "cell_type": "code",
      "metadata": {
        "kernel": "Rust",
        "nbgrader": {
          "grade": false,
          "grade_id": "c-005",
          "locked": false,
          "schema_version": 3,
          "solution": false,
          "task": false
        }
      },
      "source": [
        "struct Rect {\n",
        "    x : i32,\n",
        "    y : i32,\n",
        "    width : i32,\n",
        "    height : i32\n",
        "}\n",
        "\n",
        "struct Ellipse {\n",
        "    cx : i32,\n",
        "    cy : i32,\n",
        "    rx : i32,\n",
        "    ry : i32\n",
        "}"
      ],
      "execution_count": null,
      "outputs": []
    },
    {
      "cell_type": "markdown",
      "metadata": {
        "kernel": "SoS",
        "nbgrader": {
          "grade": false,
          "grade_id": "c-006",
          "locked": true,
          "schema_version": 3,
          "solution": false,
          "task": false
        }
      },
      "source": [
        "# 4. Methods",
        "\n",
        "* _Methods_ are similar to functions, except that a method of the same name can be defined (i.e., implemented differently) for different classes\n",
        "* When you call a method, which of the different implementations of the same name gets called is determined by the type(s) of its argument(s) (_dynamic dispatch_)\n",
        "\n",
        " |     |        |                                       |\n",
        " | :-- | :----- | :------------------------------------ |\n",
        " |Go   |func    |[Methods](https://go.dev/doc/effective_go#methods)|\n",
        " |Julia|function|[Methods](https://docs.julialang.org/en/v1/manual/methods/#Methods)|\n",
        " |OCaml|method  |[Objects in OCaml](https://ocaml.org/manual/objectexamples.html)|\n",
        " |Rust |impl    |[Method Syntax](https://doc.rust-lang.org/book/ch05-03-method-syntax.html?highlight=impl#method-syntax)|\n",
        "\n",
        "## <font color=\"green\"> Problem 3 :  Define a method that computes the area of rect/ellipse</font>",
        "\n",
        "* Define `area` method for `rect` and `ellipse` that computes its area\n",
        ""
      ]
    },
    {
      "cell_type": "code",
      "metadata": {
        "kernel": "OCaml default",
        "nbgrader": {
          "grade": false,
          "grade_id": "c-007",
          "locked": false,
          "schema_version": 3,
          "solution": false,
          "task": false
        }
      },
      "source": [
        "class rect x y width height = object\n",
        "  method area = float(width * height)\n",
        "end\n",
        ";;                            \n",
        "let pi = (atan2 1.0 1.0) *. 4.0\n",
        ";;\n",
        "class ellipse x y rx ry = object\n",
        "  method area =\n",
        "    float(rx * ry) *. pi\n",
        "end\n",
        ";;"
      ],
      "execution_count": null,
      "outputs": []
    },
    {
      "cell_type": "code",
      "metadata": {
        "kernel": "Julia 1.8.5",
        "nbgrader": {
          "grade": false,
          "grade_id": "c-008",
          "locked": false,
          "schema_version": 3,
          "solution": false,
          "task": false
        }
      },
      "source": [
        "function area(r :: Rect)\n",
        "    r.width * r.height\n",
        "end\n",
        "\n",
        "function area(e :: Ellipse)\n",
        "    e.rx * e.ry * pi\n",
        "end"
      ],
      "execution_count": null,
      "outputs": []
    },
    {
      "cell_type": "code",
      "metadata": {
        "kernel": "Go",
        "nbgrader": {
          "grade": false,
          "grade_id": "c-009",
          "locked": false,
          "schema_version": 3,
          "solution": false,
          "task": false
        }
      },
      "source": [
        "import \"math\"\n",
        "func (r rect) area() float64 {\n",
        "        return float64(r.width * r.height)\n",
        "}\n",
        "\n",
        "func (e ellipse) area() float64 {\n",
        "        return float64(e.rx * e.ry) * math.Pi\n",
        "}"
      ],
      "execution_count": null,
      "outputs": []
    },
    {
      "cell_type": "code",
      "metadata": {
        "kernel": "Rust",
        "nbgrader": {
          "grade": false,
          "grade_id": "c-010",
          "locked": false,
          "schema_version": 3,
          "solution": false,
          "task": false
        }
      },
      "source": [
        "impl Rect {\n",
        "    fn area(&self) -> f64 {\n",
        "        (self.width * self.height) as f64\n",
        "    }\n",
        "}\n",
        "\n",
        "impl Ellipse {\n",
        "    fn area(&self) -> f64 {\n",
        "        std::f64::consts::PI * ((self.rx * self.ry) as f64)\n",
        "    }\n",
        "}"
      ],
      "execution_count": null,
      "outputs": []
    },
    {
      "cell_type": "markdown",
      "metadata": {
        "kernel": "SoS",
        "nbgrader": {
          "grade": false,
          "grade_id": "c-011",
          "locked": true,
          "schema_version": 3,
          "solution": false,
          "task": false
        }
      },
      "source": [
        "# 5. Subtypes and similar concepts (interface, trait, etc.)",
        "\n",
        "* Now that we have defined two different methods with the same name `area`, but it wouldn't be that useful, unless you can have _a_ variable that holds values of both types at different points of an execution\n",
        "* For example, we like to have an array (or any container data) that has both rectangles and ellipses and iterate over them, assigning a variable elements of different types over time, e.g., like this in Python\n",
        "```\n",
        "for s in shapes:\n",
        "    s.area()\n",
        "```    \n",
        "* An issue is, _what should be the type of the variable `s` or `shapes` above?_  How to declare their types?\n",
        "* Intuitively, we need a type that encompasses both rectangles and ellipses (and perhaps other shapes defined in future), perhaps called `shape`\n",
        "* Approaches differ between languages\n",
        "  * some languages (e.g., Java, C/C++) let you define `shape` explicitly and _extend_ it to define rectangles and ellipses\n",
        "  * Go and Rust introduce _interface_ or _trait_, that look like types but do not allow creation of actual data that belong to them (some would call them _abstract types_); they basically specify what kind of methods must be implemented for any data to claim a particular interface or trait\n",
        "* Superficially, it does not appear to be an issue in languages that do not require any type declarations (e.g., Python, Julia, or OCaml)\n",
        "* It is true to some extent, but a more profound issue is whether the language can guarantee, prior to execution, that type errors do not happen during runtime\n",
        "\n",
        " |     |         |                           |\n",
        " | :-- | :------ |:--------------------------|\n",
        " |Go   |interface|[Interfaces and other types](https://go.dev/doc/effective_go#interfaces_and_types)|\n",
        " |Julia|         ||\n",
        " |OCaml|         ||\n",
        " |Rust |trait    |[Traits: Defining Shared Behavior](https://doc.rust-lang.org/book/ch10-02-traits.html)|\n",
        "\n",
        "## <font color=\"green\"> Problem 4 :  Create an array/a list/a vector/a slice </font>",
        "\n",
        "* Create an array-like data structure that has _both_ rectangle(s) and ellipse(s)\n",
        "* For simplicity, create a two-element array whose\n",
        "  * first element : a rectangle whose lower left corner is (0,0) and upper right corner is (100,100)\n",
        "  * second element : an ellipse whose center is (0,0) and the radius along x-axis 100 and the radius along y-axis is 50\n",
        "* Depending on the language you chose, you may have to define a type encompassing rect and ellipse and perhaps have to redefine rect and ellipse too\n",
        "\n",
        "* Some languages have idiosyncrasies for arrays and similar containers, which you might find confusing\n",
        "* Some pointers about ways to create arrays or similar containers in each language\n",
        "\n",
        " |     |      |        |                                       |\n",
        " |:----|:-----|:-------|:--------------------------------------|\n",
        " |Go   |array |new     |[Arrays](https://go.dev/doc/effective_go#arrays) |\n",
        " |Go   |slice |make    |[Slices](https://go.dev/doc/effective_go#slices) |\n",
        " |Julia|array |[a,b,..]|[Array literals](https://docs.julialang.org/en/v1/manual/arrays/#man-array-literals)|\n",
        " |OCaml|list  |[a;b;..]   |[Data types](https://ocaml.org/manual/coreexamples.html#s:datatypes)|\n",
        " |OCaml|array |[\\|a;b;..\\|] |[Imperative features](https://ocaml.org/manual/coreexamples.html#s:imperative-features)|\n",
        " |Rust |array |[a,b,..]   |[The Array Type](https://doc.rust-lang.org/book/ch03-02-data-types.html#the-array-type)|\n",
        " |Rust |slice |&array   |[The Slice Type](https://doc.rust-lang.org/book/ch04-03-slices.html)|\n",
        " |Rust |Vec   |Vec::new|[Storing Lists of Values with Vectors](https://doc.rust-lang.org/book/ch08-01-vectors.html#storing-lists-of-values-with-vectors)|\n",
        ""
      ]
    },
    {
      "cell_type": "code",
      "metadata": {
        "kernel": "OCaml default",
        "nbgrader": {
          "grade": false,
          "grade_id": "c-012",
          "locked": false,
          "schema_version": 3,
          "solution": false,
          "task": false
        }
      },
      "source": [
        "let shapes = [new rect 0 0 100 100; new ellipse 0 0 100 50]\n",
        ";;             "
      ],
      "execution_count": null,
      "outputs": []
    },
    {
      "cell_type": "code",
      "metadata": {
        "kernel": "Julia 1.8.5",
        "nbgrader": {
          "grade": false,
          "grade_id": "c-013",
          "locked": false,
          "schema_version": 3,
          "solution": false,
          "task": false
        }
      },
      "source": [
        "shapes = [Rect(0, 0, 100, 100), Ellipse(0, 0, 100, 50)]"
      ],
      "execution_count": null,
      "outputs": []
    },
    {
      "cell_type": "code",
      "metadata": {
        "kernel": "Go",
        "nbgrader": {
          "grade": false,
          "grade_id": "c-014",
          "locked": false,
          "schema_version": 3,
          "solution": false,
          "task": false
        }
      },
      "source": [
        "type shape interface {\n",
        "        area() float64\n",
        "}\n",
        "\n",
        "var shapes []shape = []shape{\n",
        "        rect{0, 0, 100, 100},\n",
        "        ellipse{0, 0, 100, 50},\n",
        "}"
      ],
      "execution_count": null,
      "outputs": []
    },
    {
      "cell_type": "code",
      "metadata": {
        "kernel": "Rust",
        "nbgrader": {
          "grade": false,
          "grade_id": "c-015",
          "locked": false,
          "schema_version": 3,
          "solution": false,
          "task": false
        }
      },
      "source": [
        "trait Shape {\n",
        "    fn area(&self) -> f64;\n",
        "}\n",
        "\n",
        "impl Shape for Rect {\n",
        "    fn area(&self) -> f64 {\n",
        "        (self.width * self.height) as f64\n",
        "    }\n",
        "}\n",
        "\n",
        "impl Shape for Ellipse {\n",
        "    fn area(&self) -> f64 {\n",
        "        std::f64::consts::PI * ((self.rx * self.ry) as f64)\n",
        "    }\n",
        "}\n",
        "\n",
        "#[allow(unused_variables)]\n",
        "fn mk_shapes() {\n",
        "    let r = Rect{x: 0, y:0, width: 100, height: 100};\n",
        "    let e = Ellipse{cx: 0, cy: 0, rx: 100, ry: 50};\n",
        "    let shapes : Vec<&dyn Shape> = vec![&r, &e];\n",
        "    return;\n",
        "}"
      ],
      "execution_count": null,
      "outputs": []
    },
    {
      "cell_type": "markdown",
      "metadata": {
        "kernel": "SoS",
        "nbgrader": {
          "grade": false,
          "grade_id": "c-016",
          "locked": true,
          "schema_version": 3,
          "solution": false,
          "task": false
        }
      },
      "source": [
        "# 6. Working on mixed collections",
        "\n",
        "## <font color=\"green\"> Problem 5 :  Scan an array of shapes</font>",
        "\n",
        "* Write a function, named `sum_area`, which scans an array of shapes and returns the sum of each shape's area\n",
        "* Apply `sum_area` to the list created above \n",
        "\n",
        " |     |      |                                              |\n",
        " | :-- | :--- | :------------------------------------------- |\n",
        " |Go   |for   |[For](https://go.dev/doc/effective_go#for)    |\n",
        " |Julia|for   |[Repeated Evaluation: Loops](https://docs.julialang.org/en/v1/manual/control-flow/#man-loops)|\n",
        " |OCaml|List  |[Module List](https://ocaml.org/api/List.html)|\n",
        " |OCaml|for   |[Loops](https://ocaml.org/manual/expr.html#sss:expr-loops)|\n",
        " |Rust |for   |[Looping Through a Collection with for](https://doc.rust-lang.org/book/ch03-05-control-flow.html#looping-through-a-collection-with-for)|\n",
        ""
      ]
    },
    {
      "cell_type": "code",
      "metadata": {
        "kernel": "OCaml default",
        "nbgrader": {
          "grade": false,
          "grade_id": "c-017",
          "locked": false,
          "schema_version": 3,
          "solution": false,
          "task": false
        }
      },
      "source": [
        "let rec sum_area shapes =\n",
        "  match shapes with\n",
        "    [] -> 0.0\n",
        "  | h::r -> h#area +. (sum_area r)\n",
        ";;\n",
        "sum_area shapes\n",
        ";;"
      ],
      "execution_count": null,
      "outputs": []
    },
    {
      "cell_type": "code",
      "metadata": {
        "kernel": "Julia 1.8.5",
        "nbgrader": {
          "grade": false,
          "grade_id": "c-018",
          "locked": false,
          "schema_version": 3,
          "solution": false,
          "task": false
        }
      },
      "source": [
        "function sum_area(shapes)\n",
        "    sa = 0.0\n",
        "    for (i, s) in enumerate(shapes)\n",
        "        sa += area(s)\n",
        "    end\n",
        "    sa\n",
        "end\n",
        "\n",
        "sum_area(shapes)"
      ],
      "execution_count": null,
      "outputs": []
    },
    {
      "cell_type": "code",
      "metadata": {
        "kernel": "Go",
        "nbgrader": {
          "grade": false,
          "grade_id": "c-019",
          "locked": false,
          "schema_version": 3,
          "solution": false,
          "task": false
        }
      },
      "source": [
        "func sum_area(shapes []shape) float64 {\n",
        "        sa := 0.0\n",
        "        for _, s := range shapes {\n",
        "                sa += s.area()\n",
        "        }\n",
        "        return sa\n",
        "}\n",
        "sum_area(shapes)"
      ],
      "execution_count": null,
      "outputs": []
    },
    {
      "cell_type": "code",
      "metadata": {
        "kernel": "Rust",
        "nbgrader": {
          "grade": false,
          "grade_id": "c-020",
          "locked": false,
          "schema_version": 3,
          "solution": false,
          "task": false
        }
      },
      "source": [
        "fn sum_area(shapes : Vec<&dyn Shape>) -> f64 {\n",
        "    let mut sa = 0.0;\n",
        "    for (_, s) in shapes.iter().enumerate() {\n",
        "        sa += s.area()\n",
        "    }\n",
        "    sa\n",
        "}\n",
        "fn main() {\n",
        "    let r = Rect{x: 0, y:0, width: 100, height: 100};\n",
        "    let e = Ellipse{cx: 0, cy: 0, rx: 100, ry: 50};\n",
        "    let shapes : Vec<&dyn Shape> = vec![&r, &e];\n",
        "    println!(\"{}\", sum_area(shapes));\n",
        "}"
      ],
      "execution_count": null,
      "outputs": []
    },
    {
      "cell_type": "markdown",
      "metadata": {
        "kernel": "SoS",
        "nbgrader": {
          "grade": false,
          "grade_id": "c-021",
          "locked": true,
          "schema_version": 3,
          "solution": false,
          "task": false
        }
      },
      "source": [
        "# 7. Static vs. dynamic type checking",
        "\n",
        "* What if you pass an array some of whose element do not have `area` method?\n",
        "* Some languages simply allow such a program to start execution and raise an error (type error) _at runtime_ (_dynamic type checking_), while others do not allow such programs to compile, by detecting such errors prior to execution (_static type checking_)\n",
        "* A profound language design issue is how to statically type-check, while allowing maximum flexibility\n",
        ""
      ]
    }
  ],
  "metadata": {
    "celltoolbar": "Create Assignment",
    "kernelspec": {
      "display_name": "SoS",
      "language": "sos",
      "name": "sos"
    },
    "language_info": {
      "codemirror_mode": "sos",
      "file_extension": ".sos",
      "mimetype": "text/x-sos",
      "name": "sos",
      "nbconvert_exporter": "sos_notebook.converter.SoS_Exporter",
      "pygments_lexer": "sos"
    },
    "sos": {
      "kernels": [
        [
          "Bash",
          "bash",
          "bash",
          "",
          "shell"
        ],
        [
          "C",
          "c_kernel",
          "c",
          "",
          ""
        ],
        [
          "Go",
          "gophernotes",
          "go",
          "",
          ""
        ],
        [
          "Julia 1.8.5",
          "julia-1.8",
          "julia",
          "",
          ""
        ],
        [
          "OCaml default",
          "ocaml-jupyter",
          "OCaml",
          "",
          "text/x-ocaml"
        ],
        [
          "Python 3 (ipykernel)",
          "python3",
          "python3",
          "",
          {
            "name": "ipython",
            "version": 3
          }
        ],
        [
          "Rust",
          "rust",
          "rust",
          "",
          ""
        ]
      ],
      "panel": {
        "displayed": true,
        "height": 0
      },
      "version": "0.23.3"
    }
  },
  "nbformat": 4,
  "nbformat_minor": 4
}