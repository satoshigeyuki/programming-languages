{
  "cells": [
    {
      "cell_type": "markdown",
      "metadata": {
        "kernel": "SoS",
        "nbgrader": {
          "grade": false,
          "grade_id": "c-001",
          "locked": true,
          "schema_version": 3,
          "solution": false,
          "task": false
        }
      },
      "source": [
        "\n",
        "#  Programming Languages (1)",
        ""
      ]
    },
    {
      "cell_type": "markdown",
      "metadata": {
        "kernel": "SoS",
        "nbgrader": {
          "grade": false,
          "grade_id": "c-002",
          "locked": false,
          "schema_version": 3,
          "solution": false,
          "task": false
        }
      },
      "source": [
        "\n",
        "Enter your name and student ID.\n",
        "\n",
        " * Name:\n",
        " * Student ID:\n",
        ""
      ]
    },
    {
      "cell_type": "markdown",
      "metadata": {
        "kernel": "SoS",
        "nbgrader": {
          "grade": false,
          "grade_id": "c-003",
          "locked": true,
          "schema_version": 3,
          "solution": false,
          "task": false
        }
      },
      "source": [
        "\n",
        "# 1. Choose your language",
        "\n",
        "Choose a language you want to work on for today from the following.\n",
        "\n",
        "* Go --- designed as a \"better C\"\n",
        "* Julia --- popular for scientific computing\n",
        "* OCaml --- a practical functional language\n",
        "* Rust --- a system programming language with memory safety without garbage collection\n",
        "\n",
        "\n",
        "* Choose a language you want to learn instead of one you already know.\n",
        "* The choice you made for today is not final, however; the language you work on in the rest of the course will be determined based on your preference as well as the balance.\n",
        "\n",
        "Declare your choice in the following cell.  You can write any number of languages you actually worked on.  In this notebook, I will work on the following language(s)."
      ]
    },
    {
      "cell_type": "markdown",
      "metadata": {
        "kernel": "SoS",
        "nbgrader": {
          "grade": true,
          "grade_id": "p-001",
          "locked": false,
          "schema_version": 3,
          "solution": true,
          "task": false,
          "points": 1
        }
      },
      "source": [
        "BEGIN SOLUTION\n",
        "END SOLUTION"
      ]
    },
    {
      "cell_type": "markdown",
      "metadata": {
        "kernel": "SoS",
        "nbgrader": {
          "grade": false,
          "grade_id": "c-004",
          "locked": true,
          "schema_version": 3,
          "solution": false,
          "task": false
        }
      },
      "source": [
        "# 2. Prepare",
        "\n",
        "* Find an authoritive documentation for the language you chose by Google (e.g., google with [_the language name_ documentation])\n",
        "* I recommend you to find them by yourself, but in case you have a hard time finding it, here they are\n",
        "\n",
        "\n",
        "* [Go:](https://go.dev/doc/)\n",
        "* [Julia:](https://docs.julialang.org/en/v1/)\n",
        "* [OCaml:](https://ocaml.org/manual/)\n",
        "* Rust: [language manual](https://doc.rust-lang.org/book/) and [other docs](https://www.rust-lang.org/learn)\n",
        ""
      ]
    },
    {
      "cell_type": "markdown",
      "metadata": {
        "kernel": "SoS",
        "nbgrader": {
          "grade": false,
          "grade_id": "c-005",
          "locked": true,
          "schema_version": 3,
          "solution": false,
          "task": false
        }
      },
      "source": [
        "# 3. Roadmap",
        "\n",
        "* In this notebook, you will learn most basic elements of virtually all programming languages\n",
        "* You will find the following a useful recipe when learning a new programming language\n",
        ""
      ]
    },
    {
      "cell_type": "markdown",
      "metadata": {
        "kernel": "SoS",
        "nbgrader": {
          "grade": false,
          "grade_id": "c-006",
          "locked": true,
          "schema_version": 3,
          "solution": false,
          "task": false
        }
      },
      "source": [
        "# 4. Defining functions",
        "\n",
        "* Defining a function is probably the most basic yet most important tool for any programming language\n",
        "\n",
        "# <font color=\"green\"> Problem 1 :  </font>",
        "\n",
        "* In the language you chose, write a function `f` that takes a number $x$ and return $x + 1$. i.e.,\n",
        "\n",
        "$$ f(x) = x + 1 $$\n",
        "\n",
        "* <font color=\"red\">Click the following cell and choose a language from the language selection menu on the right.</font>\n",
        ""
      ]
    },
    {
      "cell_type": "markdown",
      "metadata": {
        "kernel": "SoS",
        "nbgrader": {
          "grade": false,
          "grade_id": "c-007",
          "locked": true,
          "schema_version": 3,
          "solution": false,
          "task": false
        }
      },
      "source": [
        "Go"
      ]
    },
    {
      "cell_type": "code",
      "metadata": {
        "kernel": "Go",
        "nbgrader": {
          "grade": false,
          "grade_id": "c-008",
          "locked": false,
          "schema_version": 3,
          "solution": false,
          "task": false
        }
      },
      "source": [
        "func f(x int) int {\n",
        "        return x + 1\n",
        "}"
      ],
      "execution_count": null,
      "outputs": []
    },
    {
      "cell_type": "markdown",
      "metadata": {
        "kernel": "SoS",
        "nbgrader": {
          "grade": false,
          "grade_id": "c-009",
          "locked": true,
          "schema_version": 3,
          "solution": false,
          "task": false
        }
      },
      "source": [
        "Julia"
      ]
    },
    {
      "cell_type": "code",
      "metadata": {
        "kernel": "Julia 1.10.2",
        "nbgrader": {
          "grade": false,
          "grade_id": "c-010",
          "locked": false,
          "schema_version": 3,
          "solution": false,
          "task": false
        }
      },
      "source": [
        "function f(x)\n",
        "    x + 1\n",
        "end"
      ],
      "execution_count": null,
      "outputs": []
    },
    {
      "cell_type": "markdown",
      "metadata": {
        "kernel": "SoS",
        "nbgrader": {
          "grade": false,
          "grade_id": "c-011",
          "locked": true,
          "schema_version": 3,
          "solution": false,
          "task": false
        }
      },
      "source": [
        "OCaml"
      ]
    },
    {
      "cell_type": "code",
      "metadata": {
        "kernel": "OCaml default",
        "nbgrader": {
          "grade": false,
          "grade_id": "c-012",
          "locked": false,
          "schema_version": 3,
          "solution": false,
          "task": false
        }
      },
      "source": [
        "let f x = x + 1\n",
        ";;"
      ],
      "execution_count": null,
      "outputs": []
    },
    {
      "cell_type": "markdown",
      "metadata": {
        "kernel": "SoS",
        "nbgrader": {
          "grade": false,
          "grade_id": "c-013",
          "locked": true,
          "schema_version": 3,
          "solution": false,
          "task": false
        }
      },
      "source": [
        "Rust"
      ]
    },
    {
      "cell_type": "code",
      "metadata": {
        "kernel": "Rust",
        "nbgrader": {
          "grade": false,
          "grade_id": "c-014",
          "locked": false,
          "schema_version": 3,
          "solution": false,
          "task": false
        }
      },
      "source": [
        "fn f(x: i32) -> i32 {\n",
        "        return x + 1\n",
        "}"
      ],
      "execution_count": null,
      "outputs": []
    },
    {
      "cell_type": "markdown",
      "metadata": {
        "kernel": "SoS",
        "nbgrader": {
          "grade": false,
          "grade_id": "c-015",
          "locked": true,
          "schema_version": 3,
          "solution": false,
          "task": false
        }
      },
      "source": [
        "and compute ${\\tt f}(3)$."
      ]
    },
    {
      "cell_type": "markdown",
      "metadata": {
        "kernel": "SoS",
        "nbgrader": {
          "grade": false,
          "grade_id": "c-016",
          "locked": true,
          "schema_version": 3,
          "solution": false,
          "task": false
        }
      },
      "source": [
        "Go"
      ]
    },
    {
      "cell_type": "code",
      "metadata": {
        "kernel": "Go",
        "nbgrader": {
          "grade": false,
          "grade_id": "c-017",
          "locked": false,
          "schema_version": 3,
          "solution": false,
          "task": false
        }
      },
      "source": [
        "f(3)"
      ],
      "execution_count": null,
      "outputs": []
    },
    {
      "cell_type": "markdown",
      "metadata": {
        "kernel": "SoS",
        "nbgrader": {
          "grade": false,
          "grade_id": "c-018",
          "locked": true,
          "schema_version": 3,
          "solution": false,
          "task": false
        }
      },
      "source": [
        "Julia"
      ]
    },
    {
      "cell_type": "code",
      "metadata": {
        "kernel": "Julia 1.10.2",
        "nbgrader": {
          "grade": false,
          "grade_id": "c-019",
          "locked": false,
          "schema_version": 3,
          "solution": false,
          "task": false
        }
      },
      "source": [
        "f(3)"
      ],
      "execution_count": null,
      "outputs": []
    },
    {
      "cell_type": "markdown",
      "metadata": {
        "kernel": "SoS",
        "nbgrader": {
          "grade": false,
          "grade_id": "c-020",
          "locked": true,
          "schema_version": 3,
          "solution": false,
          "task": false
        }
      },
      "source": [
        "OCaml"
      ]
    },
    {
      "cell_type": "code",
      "metadata": {
        "kernel": "OCaml default",
        "nbgrader": {
          "grade": false,
          "grade_id": "c-021",
          "locked": false,
          "schema_version": 3,
          "solution": false,
          "task": false
        }
      },
      "source": [
        "f 3\n",
        ";;"
      ],
      "execution_count": null,
      "outputs": []
    },
    {
      "cell_type": "markdown",
      "metadata": {
        "kernel": "SoS",
        "nbgrader": {
          "grade": false,
          "grade_id": "c-022",
          "locked": true,
          "schema_version": 3,
          "solution": false,
          "task": false
        }
      },
      "source": [
        "Rust"
      ]
    },
    {
      "cell_type": "code",
      "metadata": {
        "kernel": "Rust",
        "nbgrader": {
          "grade": false,
          "grade_id": "c-023",
          "locked": false,
          "schema_version": 3,
          "solution": false,
          "task": false
        }
      },
      "source": [
        "f(3)"
      ],
      "execution_count": null,
      "outputs": []
    },
    {
      "cell_type": "markdown",
      "metadata": {
        "kernel": "SoS",
        "nbgrader": {
          "grade": false,
          "grade_id": "c-024",
          "locked": true,
          "schema_version": 3,
          "solution": false,
          "task": false
        }
      },
      "source": [
        "# 5. Recursive function",
        "\n",
        "* A recursive function is simply a function that calls itself\n",
        "* If there is one thing that makes a programming language different from a calculator, it is a recursive function\n",
        "\n",
        "# <font color=\"green\"> Problem 2 :  </font>",
        "\n",
        "* Using a recursive definition of a function `fib` that takes an integer $n$ and return the $n$th fibonacci number $f_n$ defined as follows\n",
        "\n",
        "$$ f_n = \\left\\{\\begin{array}{ll} 1 & (n < 2) \\\\ f_{n-1} + f_{n-2} & (n \\geq 2) \\end{array} \\right. $$\n",
        "\n",
        "* Note: for the purpose of today, it suffices to write a straightforward recursive function; never mind the efficiency (time complexity) of the algorithm; you do not have to do use loops to make it linear time\n",
        ""
      ]
    },
    {
      "cell_type": "markdown",
      "metadata": {
        "kernel": "SoS",
        "nbgrader": {
          "grade": false,
          "grade_id": "c-025",
          "locked": true,
          "schema_version": 3,
          "solution": false,
          "task": false
        }
      },
      "source": [
        "Go"
      ]
    },
    {
      "cell_type": "code",
      "metadata": {
        "kernel": "Go",
        "nbgrader": {
          "grade": false,
          "grade_id": "c-026",
          "locked": false,
          "schema_version": 3,
          "solution": false,
          "task": false
        }
      },
      "source": [
        "func fib(n int) int {\n",
        "        if n < 2 {\n",
        "                return 1\n",
        "        } else {\n",
        "                return fib(n - 1) + fib(n - 2)\n",
        "        }\n",
        "}"
      ],
      "execution_count": null,
      "outputs": []
    },
    {
      "cell_type": "markdown",
      "metadata": {
        "kernel": "SoS",
        "nbgrader": {
          "grade": false,
          "grade_id": "c-027",
          "locked": true,
          "schema_version": 3,
          "solution": false,
          "task": false
        }
      },
      "source": [
        "Julia"
      ]
    },
    {
      "cell_type": "code",
      "metadata": {
        "kernel": "Julia 1.10.2",
        "nbgrader": {
          "grade": false,
          "grade_id": "c-028",
          "locked": false,
          "schema_version": 3,
          "solution": false,
          "task": false
        }
      },
      "source": [
        "function fib(n :: Int)\n",
        "    if n < 2\n",
        "        1\n",
        "    else\n",
        "        fib(n - 1) + fib(n - 2)\n",
        "    end\n",
        "end"
      ],
      "execution_count": null,
      "outputs": []
    },
    {
      "cell_type": "markdown",
      "metadata": {
        "kernel": "SoS",
        "nbgrader": {
          "grade": false,
          "grade_id": "c-029",
          "locked": true,
          "schema_version": 3,
          "solution": false,
          "task": false
        }
      },
      "source": [
        "OCaml"
      ]
    },
    {
      "cell_type": "code",
      "metadata": {
        "kernel": "OCaml default",
        "nbgrader": {
          "grade": false,
          "grade_id": "c-030",
          "locked": false,
          "schema_version": 3,
          "solution": false,
          "task": false
        }
      },
      "source": [
        "let rec fib n =\n",
        "  if n < 2 then\n",
        "    1\n",
        "  else\n",
        "    fib (n - 1) + fib (n - 2)\n",
        ";;"
      ],
      "execution_count": null,
      "outputs": []
    },
    {
      "cell_type": "markdown",
      "metadata": {
        "kernel": "SoS",
        "nbgrader": {
          "grade": false,
          "grade_id": "c-031",
          "locked": true,
          "schema_version": 3,
          "solution": false,
          "task": false
        }
      },
      "source": [
        "Rust"
      ]
    },
    {
      "cell_type": "code",
      "metadata": {
        "kernel": "Rust",
        "nbgrader": {
          "grade": false,
          "grade_id": "c-032",
          "locked": false,
          "schema_version": 3,
          "solution": false,
          "task": false
        }
      },
      "source": [
        "fn fib(n: i32) -> i32 {\n",
        "    if n < 2 {\n",
        "        1\n",
        "    } else {\n",
        "        fib(n - 1) + fib(n - 2)\n",
        "    }\n",
        "}"
      ],
      "execution_count": null,
      "outputs": []
    },
    {
      "cell_type": "markdown",
      "metadata": {
        "kernel": "SoS",
        "nbgrader": {
          "grade": false,
          "grade_id": "c-033",
          "locked": true,
          "schema_version": 3,
          "solution": false,
          "task": false
        }
      },
      "source": [
        "and compute ${\\tt fib}(10)$.  It must be 89."
      ]
    },
    {
      "cell_type": "markdown",
      "metadata": {
        "kernel": "SoS",
        "nbgrader": {
          "grade": false,
          "grade_id": "c-034",
          "locked": true,
          "schema_version": 3,
          "solution": false,
          "task": false
        }
      },
      "source": [
        "Go"
      ]
    },
    {
      "cell_type": "code",
      "metadata": {
        "kernel": "Go",
        "nbgrader": {
          "grade": false,
          "grade_id": "c-035",
          "locked": false,
          "schema_version": 3,
          "solution": false,
          "task": false
        }
      },
      "source": [
        "fib(10)"
      ],
      "execution_count": null,
      "outputs": []
    },
    {
      "cell_type": "markdown",
      "metadata": {
        "kernel": "SoS",
        "nbgrader": {
          "grade": false,
          "grade_id": "c-036",
          "locked": true,
          "schema_version": 3,
          "solution": false,
          "task": false
        }
      },
      "source": [
        "Julia"
      ]
    },
    {
      "cell_type": "code",
      "metadata": {
        "kernel": "Julia 1.10.2",
        "nbgrader": {
          "grade": false,
          "grade_id": "c-037",
          "locked": false,
          "schema_version": 3,
          "solution": false,
          "task": false
        }
      },
      "source": [
        "fib(10)"
      ],
      "execution_count": null,
      "outputs": []
    },
    {
      "cell_type": "markdown",
      "metadata": {
        "kernel": "SoS",
        "nbgrader": {
          "grade": false,
          "grade_id": "c-038",
          "locked": true,
          "schema_version": 3,
          "solution": false,
          "task": false
        }
      },
      "source": [
        "OCaml"
      ]
    },
    {
      "cell_type": "code",
      "metadata": {
        "kernel": "OCaml default",
        "nbgrader": {
          "grade": false,
          "grade_id": "c-039",
          "locked": false,
          "schema_version": 3,
          "solution": false,
          "task": false
        }
      },
      "source": [
        "fib 10"
      ],
      "execution_count": null,
      "outputs": []
    },
    {
      "cell_type": "markdown",
      "metadata": {
        "kernel": "SoS",
        "nbgrader": {
          "grade": false,
          "grade_id": "c-040",
          "locked": true,
          "schema_version": 3,
          "solution": false,
          "task": false
        }
      },
      "source": [
        "Rust"
      ]
    },
    {
      "cell_type": "code",
      "metadata": {
        "kernel": "Rust",
        "nbgrader": {
          "grade": false,
          "grade_id": "c-041",
          "locked": false,
          "schema_version": 3,
          "solution": false,
          "task": false
        }
      },
      "source": [
        "fib(10)"
      ],
      "execution_count": null,
      "outputs": []
    },
    {
      "cell_type": "markdown",
      "metadata": {
        "kernel": "SoS",
        "nbgrader": {
          "grade": false,
          "grade_id": "c-042",
          "locked": true,
          "schema_version": 3,
          "solution": false,
          "task": false
        }
      },
      "source": [
        "# 6. Variables",
        "\n",
        "* A variable is a tool to \"remember\" an intermediate result of a computation\n",
        "* It is useful to make programs easier to read (by breaking otherwise long expressions into a series of small expressions) and more efficient (by avoiding repeated computations)\n",
        "\n",
        "# <font color=\"green\"> Problem 3 :  </font>",
        "\n",
        "* Learn how to introduce a new variable and define `fib2` that does exactly the same computation as `fib`, but with variables; specifically, compute $f_{n-1} + f_{n-2}$ by $x = {\\tt fib2}(n-1)$, $y = {\\tt fib2}(n-2)$, and then compute $x + y$.\n",
        ""
      ]
    },
    {
      "cell_type": "markdown",
      "metadata": {
        "kernel": "SoS",
        "nbgrader": {
          "grade": false,
          "grade_id": "c-043",
          "locked": true,
          "schema_version": 3,
          "solution": false,
          "task": false
        }
      },
      "source": [
        "Go"
      ]
    },
    {
      "cell_type": "code",
      "metadata": {
        "kernel": "Go",
        "nbgrader": {
          "grade": false,
          "grade_id": "c-044",
          "locked": false,
          "schema_version": 3,
          "solution": false,
          "task": false
        }
      },
      "source": [
        "func fib2(n int) int {\n",
        "        if n < 2 {\n",
        "                return 1\n",
        "        } else {\n",
        "                x := fib2(n - 1)\n",
        "                y := fib2(n - 2)\n",
        "                return x + y\n",
        "        }\n",
        "}"
      ],
      "execution_count": null,
      "outputs": []
    },
    {
      "cell_type": "markdown",
      "metadata": {
        "kernel": "SoS",
        "nbgrader": {
          "grade": false,
          "grade_id": "c-045",
          "locked": true,
          "schema_version": 3,
          "solution": false,
          "task": false
        }
      },
      "source": [
        "Julia"
      ]
    },
    {
      "cell_type": "code",
      "metadata": {
        "kernel": "Julia 1.10.2",
        "nbgrader": {
          "grade": false,
          "grade_id": "c-046",
          "locked": false,
          "schema_version": 3,
          "solution": false,
          "task": false
        }
      },
      "source": [
        "function fib2(n :: Int)\n",
        "  if n < 2\n",
        "      1\n",
        "  else\n",
        "      x = fib2(n - 1)\n",
        "      y = fib2(n - 2)\n",
        "      x + y\n",
        "  end\n",
        "end"
      ],
      "execution_count": null,
      "outputs": []
    },
    {
      "cell_type": "markdown",
      "metadata": {
        "kernel": "SoS",
        "nbgrader": {
          "grade": false,
          "grade_id": "c-047",
          "locked": true,
          "schema_version": 3,
          "solution": false,
          "task": false
        }
      },
      "source": [
        "OCaml"
      ]
    },
    {
      "cell_type": "code",
      "metadata": {
        "kernel": "OCaml default",
        "nbgrader": {
          "grade": false,
          "grade_id": "c-048",
          "locked": false,
          "schema_version": 3,
          "solution": false,
          "task": false
        }
      },
      "source": [
        "let rec fib2 n =\n",
        "  if n < 2 then\n",
        "    1\n",
        "  else\n",
        "    let x = fib2 (n - 1) in\n",
        "    let y = fib2 (n - 2) in\n",
        "    x + y\n",
        ";;"
      ],
      "execution_count": null,
      "outputs": []
    },
    {
      "cell_type": "markdown",
      "metadata": {
        "kernel": "SoS",
        "nbgrader": {
          "grade": false,
          "grade_id": "c-049",
          "locked": true,
          "schema_version": 3,
          "solution": false,
          "task": false
        }
      },
      "source": [
        "Rust"
      ]
    },
    {
      "cell_type": "code",
      "metadata": {
        "kernel": "Rust",
        "nbgrader": {
          "grade": false,
          "grade_id": "c-050",
          "locked": false,
          "schema_version": 3,
          "solution": false,
          "task": false
        }
      },
      "source": [
        "fn fib2(n: i32) -> i32 {\n",
        "    if n < 2 {\n",
        "        1\n",
        "    } else {\n",
        "        let x = fib2(n - 1);\n",
        "        let y = fib2(n - 2);\n",
        "        x + y\n",
        "    }\n",
        "}"
      ],
      "execution_count": null,
      "outputs": []
    },
    {
      "cell_type": "markdown",
      "metadata": {
        "kernel": "SoS",
        "nbgrader": {
          "grade": false,
          "grade_id": "c-051",
          "locked": true,
          "schema_version": 3,
          "solution": false,
          "task": false
        }
      },
      "source": [
        "and compute ${\\tt fib2}(10)$.  It must be 89."
      ]
    },
    {
      "cell_type": "markdown",
      "metadata": {
        "kernel": "SoS",
        "nbgrader": {
          "grade": false,
          "grade_id": "c-052",
          "locked": true,
          "schema_version": 3,
          "solution": false,
          "task": false
        }
      },
      "source": [
        "Go"
      ]
    },
    {
      "cell_type": "code",
      "metadata": {
        "kernel": "Go",
        "nbgrader": {
          "grade": false,
          "grade_id": "c-053",
          "locked": false,
          "schema_version": 3,
          "solution": false,
          "task": false
        }
      },
      "source": [
        "fib2(10)"
      ],
      "execution_count": null,
      "outputs": []
    },
    {
      "cell_type": "markdown",
      "metadata": {
        "kernel": "SoS",
        "nbgrader": {
          "grade": false,
          "grade_id": "c-054",
          "locked": true,
          "schema_version": 3,
          "solution": false,
          "task": false
        }
      },
      "source": [
        "Julia"
      ]
    },
    {
      "cell_type": "code",
      "metadata": {
        "kernel": "Julia 1.10.2",
        "nbgrader": {
          "grade": false,
          "grade_id": "c-055",
          "locked": false,
          "schema_version": 3,
          "solution": false,
          "task": false
        }
      },
      "source": [
        "fib2(10)"
      ],
      "execution_count": null,
      "outputs": []
    },
    {
      "cell_type": "markdown",
      "metadata": {
        "kernel": "SoS",
        "nbgrader": {
          "grade": false,
          "grade_id": "c-056",
          "locked": true,
          "schema_version": 3,
          "solution": false,
          "task": false
        }
      },
      "source": [
        "OCaml"
      ]
    },
    {
      "cell_type": "code",
      "metadata": {
        "kernel": "OCaml default",
        "nbgrader": {
          "grade": false,
          "grade_id": "c-057",
          "locked": false,
          "schema_version": 3,
          "solution": false,
          "task": false
        }
      },
      "source": [
        "fib2 10"
      ],
      "execution_count": null,
      "outputs": []
    },
    {
      "cell_type": "markdown",
      "metadata": {
        "kernel": "SoS",
        "nbgrader": {
          "grade": false,
          "grade_id": "c-058",
          "locked": true,
          "schema_version": 3,
          "solution": false,
          "task": false
        }
      },
      "source": [
        "Rust"
      ]
    },
    {
      "cell_type": "code",
      "metadata": {
        "kernel": "Rust",
        "nbgrader": {
          "grade": false,
          "grade_id": "c-059",
          "locked": false,
          "schema_version": 3,
          "solution": false,
          "task": false
        }
      },
      "source": [
        "fib2(10)"
      ],
      "execution_count": null,
      "outputs": []
    },
    {
      "cell_type": "markdown",
      "metadata": {
        "kernel": "SoS",
        "nbgrader": {
          "grade": false,
          "grade_id": "c-060",
          "locked": true,
          "schema_version": 3,
          "solution": false,
          "task": false
        }
      },
      "source": [
        "# 7. Defining types",
        "\n",
        "* In programming languages, _a type_ generally means a set of values having the same or similar properties or applicable operations\n",
        "* Basic examples are integers, floating point numbers, strings, etc.\n",
        "\n",
        "* Programming languages allow you to define a new type built from existing types\n",
        "* e.g., define a complex number as a pair of real numbers (real and imaginary part)\n",
        "\n",
        "* Different languages have different names/mechanisms to compose a new type from existing types\n",
        "  * C : struct\n",
        "  * C++ : struct/class\n",
        "  * Python : class\n",
        "  * Go : struct\n",
        "  * Julia : struct\n",
        "  * OCaml : tuples, records, object (class)\n",
        "  * Rust : struct\n",
        "\n",
        "# <font color=\"green\"> Problem 4 :  </font>",
        "\n",
        "* Learn how to define a new composite type in the language you chose;\n",
        "* define a new type representing a person (named `person` or `Person` depending on the naming constraint/convention of the language), which consists of the name (string) and the date of birth (string);\n",
        ""
      ]
    },
    {
      "cell_type": "markdown",
      "metadata": {
        "kernel": "SoS",
        "nbgrader": {
          "grade": false,
          "grade_id": "c-061",
          "locked": true,
          "schema_version": 3,
          "solution": false,
          "task": false
        }
      },
      "source": [
        "Go"
      ]
    },
    {
      "cell_type": "code",
      "metadata": {
        "kernel": "Go",
        "nbgrader": {
          "grade": false,
          "grade_id": "c-062",
          "locked": false,
          "schema_version": 3,
          "solution": false,
          "task": false
        }
      },
      "source": [
        "type Person struct {\n",
        "        name string\n",
        "        date_of_birth string\n",
        "}"
      ],
      "execution_count": null,
      "outputs": []
    },
    {
      "cell_type": "markdown",
      "metadata": {
        "kernel": "SoS",
        "nbgrader": {
          "grade": false,
          "grade_id": "c-063",
          "locked": true,
          "schema_version": 3,
          "solution": false,
          "task": false
        }
      },
      "source": [
        "Julia"
      ]
    },
    {
      "cell_type": "code",
      "metadata": {
        "kernel": "Julia 1.10.2",
        "nbgrader": {
          "grade": false,
          "grade_id": "c-064",
          "locked": false,
          "schema_version": 3,
          "solution": false,
          "task": false
        }
      },
      "source": [
        "struct Person\n",
        "    name :: String\n",
        "    date_of_birth :: String\n",
        "end"
      ],
      "execution_count": null,
      "outputs": []
    },
    {
      "cell_type": "markdown",
      "metadata": {
        "kernel": "SoS",
        "nbgrader": {
          "grade": false,
          "grade_id": "c-065",
          "locked": true,
          "schema_version": 3,
          "solution": false,
          "task": false
        }
      },
      "source": [
        "OCaml"
      ]
    },
    {
      "cell_type": "code",
      "metadata": {
        "kernel": "OCaml default",
        "nbgrader": {
          "grade": false,
          "grade_id": "c-066",
          "locked": false,
          "schema_version": 3,
          "solution": false,
          "task": false
        }
      },
      "source": [
        "type person =\n",
        "  Person of (string * string)\n",
        ";;"
      ],
      "execution_count": null,
      "outputs": []
    },
    {
      "cell_type": "markdown",
      "metadata": {
        "kernel": "SoS",
        "nbgrader": {
          "grade": false,
          "grade_id": "c-067",
          "locked": true,
          "schema_version": 3,
          "solution": false,
          "task": false
        }
      },
      "source": [
        "Rust"
      ]
    },
    {
      "cell_type": "code",
      "metadata": {
        "kernel": "Rust",
        "nbgrader": {
          "grade": false,
          "grade_id": "c-068",
          "locked": false,
          "schema_version": 3,
          "solution": false,
          "task": false
        }
      },
      "source": [
        "struct Person {\n",
        "    name: String,\n",
        "    date_of_birth: String\n",
        "}"
      ],
      "execution_count": null,
      "outputs": []
    },
    {
      "cell_type": "markdown",
      "metadata": {
        "kernel": "SoS",
        "nbgrader": {
          "grade": false,
          "grade_id": "c-069",
          "locked": true,
          "schema_version": 3,
          "solution": false,
          "task": false
        }
      },
      "source": [
        "* define a function called `person_name` that takes a person and returns his/her name;\n",
        "* create a person whose name is \"Masakazu Mimura\" (date of birth = 1967/6/8) and apply `person_name` to it"
      ]
    },
    {
      "cell_type": "markdown",
      "metadata": {
        "kernel": "SoS",
        "nbgrader": {
          "grade": false,
          "grade_id": "c-070",
          "locked": true,
          "schema_version": 3,
          "solution": false,
          "task": false
        }
      },
      "source": [
        "Go"
      ]
    },
    {
      "cell_type": "code",
      "metadata": {
        "kernel": "Go",
        "nbgrader": {
          "grade": false,
          "grade_id": "c-071",
          "locked": false,
          "schema_version": 3,
          "solution": false,
          "task": false
        }
      },
      "source": [
        "func person_name(p Person) string {\n",
        "        return p.name\n",
        "}\n",
        "person_name(Person{\"Masakazu Mimura\", \"1967/6/8\"})"
      ],
      "execution_count": null,
      "outputs": []
    },
    {
      "cell_type": "markdown",
      "metadata": {
        "kernel": "SoS",
        "nbgrader": {
          "grade": false,
          "grade_id": "c-072",
          "locked": true,
          "schema_version": 3,
          "solution": false,
          "task": false
        }
      },
      "source": [
        "Julia"
      ]
    },
    {
      "cell_type": "code",
      "metadata": {
        "kernel": "Julia 1.10.2",
        "nbgrader": {
          "grade": false,
          "grade_id": "c-073",
          "locked": false,
          "schema_version": 3,
          "solution": false,
          "task": false
        }
      },
      "source": [
        "function person_name(p :: Person)\n",
        "    p.name\n",
        "end\n",
        "\n",
        "person_name(Person(\"Masakazu Mimura\", \"1967/6/8\"))"
      ],
      "execution_count": null,
      "outputs": []
    },
    {
      "cell_type": "markdown",
      "metadata": {
        "kernel": "SoS",
        "nbgrader": {
          "grade": false,
          "grade_id": "c-074",
          "locked": true,
          "schema_version": 3,
          "solution": false,
          "task": false
        }
      },
      "source": [
        "OCaml"
      ]
    },
    {
      "cell_type": "code",
      "metadata": {
        "kernel": "OCaml default",
        "nbgrader": {
          "grade": false,
          "grade_id": "c-075",
          "locked": false,
          "schema_version": 3,
          "solution": false,
          "task": false
        }
      },
      "source": [
        "let person_name p =\n",
        "  match p with\n",
        "    Person(name, dob) -> name\n",
        ";;\n",
        "person_name (Person(\"Masakazu Mimura\", \"1967/6/8\"))\n",
        ";;"
      ],
      "execution_count": null,
      "outputs": []
    },
    {
      "cell_type": "markdown",
      "metadata": {
        "kernel": "SoS",
        "nbgrader": {
          "grade": false,
          "grade_id": "c-076",
          "locked": true,
          "schema_version": 3,
          "solution": false,
          "task": false
        }
      },
      "source": [
        "Rust"
      ]
    },
    {
      "cell_type": "code",
      "metadata": {
        "kernel": "Rust",
        "nbgrader": {
          "grade": false,
          "grade_id": "c-077",
          "locked": false,
          "schema_version": 3,
          "solution": false,
          "task": false
        }
      },
      "source": [
        "fn person_name(p : Person) -> String {\n",
        "        return p.name\n",
        "}\n",
        "person_name(Person{name: String::from(\"Masakazu Mimura\"),\n",
        "                   date_of_birth: String::from(\"1967/6/8\")})"
      ],
      "execution_count": null,
      "outputs": []
    },
    {
      "cell_type": "markdown",
      "metadata": {
        "kernel": "SoS",
        "nbgrader": {
          "grade": false,
          "grade_id": "c-078",
          "locked": true,
          "schema_version": 3,
          "solution": false,
          "task": false
        }
      },
      "source": [
        "# 8. Recursive types",
        "\n",
        "* Just as a function can be recursive, so can a type\n",
        "* A recursive type is a type one of whose component has the same type as itself\n",
        "* It is the basis for defining data structures that can grow arbitrarily large, such as trees, lists, and graphs\n",
        "\n",
        "# <font color=\"green\"> Problem 5 :  </font>",
        "\n",
        "* Define a type that represents a binary tree\n",
        "* More specifically, a binary tree is either\n",
        "  * empty,\n",
        "  * or a node having two children each of which is a binary tree (note that a child may be empty)\n",
        ""
      ]
    },
    {
      "cell_type": "markdown",
      "metadata": {
        "kernel": "SoS",
        "nbgrader": {
          "grade": false,
          "grade_id": "c-079",
          "locked": true,
          "schema_version": 3,
          "solution": false,
          "task": false
        }
      },
      "source": [
        "Go"
      ]
    },
    {
      "cell_type": "code",
      "metadata": {
        "kernel": "Go",
        "nbgrader": {
          "grade": false,
          "grade_id": "c-080",
          "locked": false,
          "schema_version": 3,
          "solution": false,
          "task": false
        }
      },
      "source": [
        "type Bintree struct {\n",
        "        left * Bintree\n",
        "        right * Bintree\n",
        "}"
      ],
      "execution_count": null,
      "outputs": []
    },
    {
      "cell_type": "markdown",
      "metadata": {
        "kernel": "SoS",
        "nbgrader": {
          "grade": false,
          "grade_id": "c-081",
          "locked": true,
          "schema_version": 3,
          "solution": false,
          "task": false
        }
      },
      "source": [
        "Julia"
      ]
    },
    {
      "cell_type": "code",
      "metadata": {
        "kernel": "Julia 1.10.2",
        "nbgrader": {
          "grade": false,
          "grade_id": "c-082",
          "locked": false,
          "schema_version": 3,
          "solution": false,
          "task": false
        }
      },
      "source": [
        "struct Bintree\n",
        "    left :: Union{Nothing,Bintree}\n",
        "    right :: Union{Nothing,Bintree}\n",
        "end"
      ],
      "execution_count": null,
      "outputs": []
    },
    {
      "cell_type": "markdown",
      "metadata": {
        "kernel": "SoS",
        "nbgrader": {
          "grade": false,
          "grade_id": "c-083",
          "locked": true,
          "schema_version": 3,
          "solution": false,
          "task": false
        }
      },
      "source": [
        "OCaml"
      ]
    },
    {
      "cell_type": "code",
      "metadata": {
        "kernel": "OCaml default",
        "nbgrader": {
          "grade": false,
          "grade_id": "c-084",
          "locked": false,
          "schema_version": 3,
          "solution": false,
          "task": false
        }
      },
      "source": [
        "type bintree =\n",
        "  Empty\n",
        "| Node of (bintree * bintree)\n",
        ";;"
      ],
      "execution_count": null,
      "outputs": []
    },
    {
      "cell_type": "markdown",
      "metadata": {
        "kernel": "SoS",
        "nbgrader": {
          "grade": false,
          "grade_id": "c-085",
          "locked": true,
          "schema_version": 3,
          "solution": false,
          "task": false
        }
      },
      "source": [
        "Rust"
      ]
    },
    {
      "cell_type": "code",
      "metadata": {
        "kernel": "Rust",
        "nbgrader": {
          "grade": false,
          "grade_id": "c-086",
          "locked": false,
          "schema_version": 3,
          "solution": false,
          "task": false
        }
      },
      "source": [
        "enum Bintree {\n",
        "    Empty,\n",
        "    Node { left: Box<Bintree>, right: Box<Bintree> }\n",
        "}"
      ],
      "execution_count": null,
      "outputs": []
    },
    {
      "cell_type": "markdown",
      "metadata": {
        "kernel": "SoS",
        "nbgrader": {
          "grade": false,
          "grade_id": "c-087",
          "locked": true,
          "schema_version": 3,
          "solution": false,
          "task": false
        }
      },
      "source": [
        "\n",
        "# <font color=\"green\"> Problem 6 :  </font>",
        "\n",
        "* Define a function `mk_tree` that takes an integer $n$ and returns the \"maximally balanced binary tree\" that has exactly $n$ nodes\n",
        "* A binary tree $t$ is maximally balanced when $t$'s left child has exactly the same as or just one more nodes than $t$'s right child\n",
        "* Given $n$, the maximally balanced binary tree of $n$ nodes is unique\n",
        ""
      ]
    },
    {
      "cell_type": "markdown",
      "metadata": {
        "kernel": "SoS",
        "nbgrader": {
          "grade": false,
          "grade_id": "c-088",
          "locked": true,
          "schema_version": 3,
          "solution": false,
          "task": false
        }
      },
      "source": [
        "Go"
      ]
    },
    {
      "cell_type": "code",
      "metadata": {
        "kernel": "Go",
        "nbgrader": {
          "grade": false,
          "grade_id": "c-089",
          "locked": false,
          "schema_version": 3,
          "solution": false,
          "task": false
        }
      },
      "source": [
        "func mk_tree(n int) * Bintree {\n",
        "        if n > 0 {\n",
        "                rc := (n - 1) / 2\n",
        "                lc := n - 1 - rc\n",
        "                return &Bintree{mk_tree(lc), mk_tree(rc)}\n",
        "        } else {\n",
        "\t\tvar p * Bintree = nil\n",
        "\t\treturn p\n",
        "\t}\n",
        "}"
      ],
      "execution_count": null,
      "outputs": []
    },
    {
      "cell_type": "markdown",
      "metadata": {
        "kernel": "SoS",
        "nbgrader": {
          "grade": false,
          "grade_id": "c-090",
          "locked": true,
          "schema_version": 3,
          "solution": false,
          "task": false
        }
      },
      "source": [
        "Julia"
      ]
    },
    {
      "cell_type": "code",
      "metadata": {
        "kernel": "Julia 1.10.2",
        "nbgrader": {
          "grade": false,
          "grade_id": "c-091",
          "locked": false,
          "schema_version": 3,
          "solution": false,
          "task": false
        }
      },
      "source": [
        "function mk_tree(n :: Int)\n",
        "    if n == 0\n",
        "        nothing\n",
        "    else\n",
        "        rc = div(n - 1, 2)\n",
        "        lc = n - 1 - rc\n",
        "        Bintree(mk_tree(lc), mk_tree(rc))\n",
        "    end\n",
        "end"
      ],
      "execution_count": null,
      "outputs": []
    },
    {
      "cell_type": "markdown",
      "metadata": {
        "kernel": "SoS",
        "nbgrader": {
          "grade": false,
          "grade_id": "c-092",
          "locked": true,
          "schema_version": 3,
          "solution": false,
          "task": false
        }
      },
      "source": [
        "OCaml"
      ]
    },
    {
      "cell_type": "code",
      "metadata": {
        "kernel": "OCaml default",
        "nbgrader": {
          "grade": false,
          "grade_id": "c-093",
          "locked": false,
          "schema_version": 3,
          "solution": false,
          "task": false
        }
      },
      "source": [
        "let rec mk_tree n = \n",
        "  if n = 0 then\n",
        "    Empty\n",
        "  else\n",
        "    let rc = (n - 1) / 2 in\n",
        "    let lc = n - 1 - rc in\n",
        "    Node(mk_tree lc, mk_tree rc)\n",
        ";;"
      ],
      "execution_count": null,
      "outputs": []
    },
    {
      "cell_type": "markdown",
      "metadata": {
        "kernel": "SoS",
        "nbgrader": {
          "grade": false,
          "grade_id": "c-094",
          "locked": true,
          "schema_version": 3,
          "solution": false,
          "task": false
        }
      },
      "source": [
        "Rust"
      ]
    },
    {
      "cell_type": "code",
      "metadata": {
        "kernel": "Rust",
        "nbgrader": {
          "grade": false,
          "grade_id": "c-095",
          "locked": false,
          "schema_version": 3,
          "solution": false,
          "task": false
        }
      },
      "source": [
        "fn mk_tree(n: i32) -> Bintree {\n",
        "    if n == 0 {\n",
        "        Bintree::Empty\n",
        "    } else {\n",
        "        let rc = (n - 1) / 2;\n",
        "        let lc = n - 1 - rc;\n",
        "        Bintree::Node{left: Box::new(mk_tree(lc)),\n",
        "                      right: Box::new(mk_tree(rc))}\n",
        "    }\n",
        "}"
      ],
      "execution_count": null,
      "outputs": []
    },
    {
      "cell_type": "markdown",
      "metadata": {
        "kernel": "SoS",
        "nbgrader": {
          "grade": false,
          "grade_id": "c-096",
          "locked": true,
          "schema_version": 3,
          "solution": false,
          "task": false
        }
      },
      "source": [
        "\n",
        "# <font color=\"green\"> Problem 7 :  </font>",
        "\n",
        "* Define a function `count_nodes` that takes a binary tree and returns the number of nodes in it\n",
        ""
      ]
    },
    {
      "cell_type": "markdown",
      "metadata": {
        "kernel": "SoS",
        "nbgrader": {
          "grade": false,
          "grade_id": "c-097",
          "locked": true,
          "schema_version": 3,
          "solution": false,
          "task": false
        }
      },
      "source": [
        "Go"
      ]
    },
    {
      "cell_type": "code",
      "metadata": {
        "kernel": "Go",
        "nbgrader": {
          "grade": false,
          "grade_id": "c-098",
          "locked": false,
          "schema_version": 3,
          "solution": false,
          "task": false
        }
      },
      "source": [
        "func count_nodes(t * Bintree) int {\n",
        "        if t == nil {\n",
        "                return 0\n",
        "        } else {\n",
        "                return 1 + count_nodes(t.left) + count_nodes(t.right)\n",
        "        }\n",
        "}"
      ],
      "execution_count": null,
      "outputs": []
    },
    {
      "cell_type": "markdown",
      "metadata": {
        "kernel": "SoS",
        "nbgrader": {
          "grade": false,
          "grade_id": "c-099",
          "locked": true,
          "schema_version": 3,
          "solution": false,
          "task": false
        }
      },
      "source": [
        "Julia"
      ]
    },
    {
      "cell_type": "code",
      "metadata": {
        "kernel": "Julia 1.10.2",
        "nbgrader": {
          "grade": false,
          "grade_id": "c-100",
          "locked": false,
          "schema_version": 3,
          "solution": false,
          "task": false
        }
      },
      "source": [
        "count_nodes(t :: Nothing) = 0\n",
        "count_nodes(t :: Bintree) = 1 + count_nodes(t.left) + count_nodes(t.right)"
      ],
      "execution_count": null,
      "outputs": []
    },
    {
      "cell_type": "markdown",
      "metadata": {
        "kernel": "SoS",
        "nbgrader": {
          "grade": false,
          "grade_id": "c-101",
          "locked": true,
          "schema_version": 3,
          "solution": false,
          "task": false
        }
      },
      "source": [
        "OCaml"
      ]
    },
    {
      "cell_type": "code",
      "metadata": {
        "kernel": "OCaml default",
        "nbgrader": {
          "grade": false,
          "grade_id": "c-102",
          "locked": false,
          "schema_version": 3,
          "solution": false,
          "task": false
        }
      },
      "source": [
        "let rec count_nodes t =\n",
        "  match t with \n",
        "    Empty -> 0\n",
        "  | Node(l, r) -> 1 + count_nodes l + count_nodes r\n",
        ";;"
      ],
      "execution_count": null,
      "outputs": []
    },
    {
      "cell_type": "markdown",
      "metadata": {
        "kernel": "SoS",
        "nbgrader": {
          "grade": false,
          "grade_id": "c-103",
          "locked": true,
          "schema_version": 3,
          "solution": false,
          "task": false
        }
      },
      "source": [
        "Rust"
      ]
    },
    {
      "cell_type": "code",
      "metadata": {
        "kernel": "Rust",
        "nbgrader": {
          "grade": false,
          "grade_id": "c-104",
          "locked": false,
          "schema_version": 3,
          "solution": false,
          "task": false
        }
      },
      "source": [
        "fn count_nodes(t: Bintree) -> i32 {\n",
        "    match t {\n",
        "        Bintree::Empty => 0,\n",
        "        Bintree::Node{left, right} =>\n",
        "            1 + count_nodes(*left) + count_nodes(*right)\n",
        "    }\n",
        "}"
      ],
      "execution_count": null,
      "outputs": []
    },
    {
      "cell_type": "markdown",
      "metadata": {
        "kernel": "SoS",
        "nbgrader": {
          "grade": false,
          "grade_id": "c-105",
          "locked": true,
          "schema_version": 3,
          "solution": false,
          "task": false
        }
      },
      "source": [
        "\n",
        "# <font color=\"green\"> Problem 8 :  </font>",
        "\n",
        "* Obviously, for $t = {\\tt mk\\_tree}(n)$, ${\\tt count\\_nodes}(t)$ should return $n$\n",
        "* Confirm this for meaningfully large $n$ (e.g., 1000)\n",
        ""
      ]
    },
    {
      "cell_type": "markdown",
      "metadata": {
        "kernel": "SoS",
        "nbgrader": {
          "grade": false,
          "grade_id": "c-106",
          "locked": true,
          "schema_version": 3,
          "solution": false,
          "task": false
        }
      },
      "source": [
        "Go"
      ]
    },
    {
      "cell_type": "code",
      "metadata": {
        "kernel": "Go",
        "nbgrader": {
          "grade": false,
          "grade_id": "c-107",
          "locked": false,
          "schema_version": 3,
          "solution": false,
          "task": false
        }
      },
      "source": [
        "count_nodes(mk_tree(1000))"
      ],
      "execution_count": null,
      "outputs": []
    },
    {
      "cell_type": "markdown",
      "metadata": {
        "kernel": "SoS",
        "nbgrader": {
          "grade": false,
          "grade_id": "c-108",
          "locked": true,
          "schema_version": 3,
          "solution": false,
          "task": false
        }
      },
      "source": [
        "Julia"
      ]
    },
    {
      "cell_type": "code",
      "metadata": {
        "kernel": "Julia 1.10.2",
        "nbgrader": {
          "grade": false,
          "grade_id": "c-109",
          "locked": false,
          "schema_version": 3,
          "solution": false,
          "task": false
        }
      },
      "source": [
        "count_nodes(mk_tree(1000))"
      ],
      "execution_count": null,
      "outputs": []
    },
    {
      "cell_type": "markdown",
      "metadata": {
        "kernel": "SoS",
        "nbgrader": {
          "grade": false,
          "grade_id": "c-110",
          "locked": true,
          "schema_version": 3,
          "solution": false,
          "task": false
        }
      },
      "source": [
        "OCaml"
      ]
    },
    {
      "cell_type": "code",
      "metadata": {
        "kernel": "OCaml default",
        "nbgrader": {
          "grade": false,
          "grade_id": "c-111",
          "locked": false,
          "schema_version": 3,
          "solution": false,
          "task": false
        }
      },
      "source": [
        "count_nodes (mk_tree 1000)\n",
        ";;"
      ],
      "execution_count": null,
      "outputs": []
    },
    {
      "cell_type": "markdown",
      "metadata": {
        "kernel": "SoS",
        "nbgrader": {
          "grade": false,
          "grade_id": "c-112",
          "locked": true,
          "schema_version": 3,
          "solution": false,
          "task": false
        }
      },
      "source": [
        "Rust"
      ]
    },
    {
      "cell_type": "code",
      "metadata": {
        "kernel": "Rust",
        "nbgrader": {
          "grade": false,
          "grade_id": "c-113",
          "locked": false,
          "schema_version": 3,
          "solution": false,
          "task": false
        }
      },
      "source": [
        "count_nodes(mk_tree(1000))"
      ],
      "execution_count": null,
      "outputs": []
    }
  ],
  "metadata": {
    "celltoolbar": "Create Assignment",
    "kernelspec": {
      "display_name": "SoS",
      "language": "sos",
      "name": "sos"
    },
    "language_info": {
      "codemirror_mode": "sos",
      "file_extension": ".sos",
      "mimetype": "text/x-sos",
      "name": "sos",
      "nbconvert_exporter": "sos_notebook.converter.SoS_Exporter",
      "pygments_lexer": "sos"
    },
    "sos": {
      "kernels": [
        [
          "Bash",
          "bash",
          "bash",
          "",
          "shell"
        ],
        [
          "C",
          "c_kernel",
          "c",
          "",
          ""
        ],
        [
          "Go",
          "gophernotes",
          "go",
          "",
          ""
        ],
        [
          "Julia 1.10.2",
          "julia-1.10",
          "julia",
          "",
          ""
        ],
        [
          "OCaml default",
          "ocaml-jupyter",
          "OCaml",
          "",
          "text/x-ocaml"
        ],
        [
          "Python 3 (ipykernel)",
          "python3",
          "python3",
          "",
          {
            "name": "ipython",
            "version": 3
          }
        ],
        [
          "Rust",
          "rust",
          "rust",
          "",
          ""
        ]
      ],
      "panel": {
        "displayed": true,
        "height": 0
      },
      "version": "0.23.3"
    }
  },
  "nbformat": 4,
  "nbformat_minor": 4
}